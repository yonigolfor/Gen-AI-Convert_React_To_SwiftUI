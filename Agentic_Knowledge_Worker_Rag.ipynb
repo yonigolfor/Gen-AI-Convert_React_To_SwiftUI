{
  "cells": [
    {
      "cell_type": "markdown",
      "metadata": {
        "id": "view-in-github",
        "colab_type": "text"
      },
      "source": [
        "<a href=\"https://colab.research.google.com/github/yonigolfor/Gen-AI-Convert_React_To_SwiftUI/blob/main/Agentic_Knowledge_Worker.ipynb\" target=\"_parent\"><img src=\"https://colab.research.google.com/assets/colab-badge.svg\" alt=\"Open In Colab\"/></a>"
      ]
    },
    {
      "cell_type": "markdown",
      "id": "dfe37963-1af6-44fc-a841-8e462443f5e6",
      "metadata": {
        "id": "dfe37963-1af6-44fc-a841-8e462443f5e6"
      },
      "source": [
        "## Expert Knowledge Worker\n",
        "\n",
        "### A question answering agent that is an expert knowledge worker\n",
        "### To be used by employees of Insurellm, an Insurance Tech company\n",
        "### The agent needs to be accurate and the solution should be low cost.\n",
        "\n",
        "This project will use RAG (Retrieval Augmented Generation) to ensure our question/answering assistant has high accuracy.\n",
        "\n",
        "This first implementation will use a simple, brute-force type of RAG.."
      ]
    },
    {
      "cell_type": "code",
      "source": [
        "!pip install -q gradio"
      ],
      "metadata": {
        "id": "Ttz8uMg6zmhM"
      },
      "id": "Ttz8uMg6zmhM",
      "execution_count": 10,
      "outputs": []
    },
    {
      "cell_type": "code",
      "source": [
        "!pip install -U -q \\\n",
        "  langchain \\\n",
        "  langchain-community \\\n",
        "  langchain-openai \\\n",
        "  langchain-chroma \\\n",
        "  sentence-transformers \\\n",
        "  scikit-learn \\\n",
        "  plotly \\\n",
        "  matplotlib\n"
      ],
      "metadata": {
        "id": "d0eJKHIM0Nfx"
      },
      "id": "d0eJKHIM0Nfx",
      "execution_count": null,
      "outputs": []
    },
    {
      "cell_type": "code",
      "execution_count": 12,
      "id": "ba2779af-84ef-4227-9e9e-6eaf0df87e77",
      "metadata": {
        "id": "ba2779af-84ef-4227-9e9e-6eaf0df87e77"
      },
      "outputs": [],
      "source": [
        "# imports\n",
        "\n",
        "import os\n",
        "import glob\n",
        "import gradio as gr"
      ]
    },
    {
      "cell_type": "code",
      "execution_count": 13,
      "id": "802137aa-8a74-45e0-a487-d1974927d7ca",
      "metadata": {
        "id": "802137aa-8a74-45e0-a487-d1974927d7ca"
      },
      "outputs": [],
      "source": [
        "# imports for langchain, plotly and Chroma\n",
        "\n",
        "from langchain.document_loaders import DirectoryLoader, TextLoader\n",
        "from langchain.text_splitter import CharacterTextSplitter\n",
        "from langchain.schema import Document\n",
        "from langchain_openai import OpenAIEmbeddings, ChatOpenAI\n",
        "from langchain_chroma import Chroma\n",
        "import matplotlib.pyplot as plt\n",
        "from sklearn.manifold import TSNE\n",
        "import numpy as np\n",
        "import plotly.graph_objects as go\n",
        "from langchain.memory import ConversationBufferMemory\n",
        "from langchain.chains import ConversationalRetrievalChain\n",
        "from langchain.embeddings import HuggingFaceEmbeddings"
      ]
    },
    {
      "cell_type": "code",
      "source": [
        "from google.colab import userdata, drive # גישה ל״סיקרטס״ של ה״נווטבוק״ וגם לדרייב\n",
        "\n",
        "from openai import OpenAI # גישה לOpenAI"
      ],
      "metadata": {
        "id": "SGGtsNj51gW-"
      },
      "id": "SGGtsNj51gW-",
      "execution_count": 18,
      "outputs": []
    },
    {
      "cell_type": "code",
      "source": [
        "drive.mount('/content/drive')"
      ],
      "metadata": {
        "colab": {
          "base_uri": "https://localhost:8080/"
        },
        "id": "DjIGGEyq4Ja0",
        "outputId": "7a90f1e4-459b-4f2a-fa23-16e65d2b6313"
      },
      "id": "DjIGGEyq4Ja0",
      "execution_count": 19,
      "outputs": [
        {
          "output_type": "stream",
          "name": "stdout",
          "text": [
            "Mounted at /content/drive\n"
          ]
        }
      ]
    },
    {
      "cell_type": "code",
      "source": [
        "folder_path = \"/content/drive/MyDrive/knowledge-base\"\n"
      ],
      "metadata": {
        "id": "qSNQ2HM84tmv"
      },
      "id": "qSNQ2HM84tmv",
      "execution_count": 22,
      "outputs": []
    },
    {
      "cell_type": "code",
      "execution_count": 15,
      "id": "58c85082-e417-4708-9efe-81a5d55d1424",
      "metadata": {
        "id": "58c85082-e417-4708-9efe-81a5d55d1424"
      },
      "outputs": [],
      "source": [
        "# price is a factor for our company, so we're going to use a low cost model\n",
        "\n",
        "MODEL = \"gpt-4o-mini\"\n",
        "db_name = \"vector_db\""
      ]
    },
    {
      "cell_type": "code",
      "execution_count": 16,
      "id": "ee78efcb-60fe-449e-a944-40bab26261af",
      "metadata": {
        "id": "ee78efcb-60fe-449e-a944-40bab26261af"
      },
      "outputs": [],
      "source": [
        "# Load environment variables\n",
        "openai_api_key = userdata.get('OPENAI_API_KEY')\n",
        "openai = OpenAI(api_key=openai_api_key)"
      ]
    },
    {
      "cell_type": "code",
      "execution_count": 29,
      "id": "730711a9-6ffe-4eee-8f48-d6cfb7314905",
      "metadata": {
        "colab": {
          "base_uri": "https://localhost:8080/"
        },
        "id": "730711a9-6ffe-4eee-8f48-d6cfb7314905",
        "outputId": "53ba16c8-bbd9-42ad-e19b-88861bab9f8f"
      },
      "outputs": [
        {
          "output_type": "stream",
          "name": "stdout",
          "text": [
            "['products', 'contracts', 'footballers', 'company', 'employees']\n"
          ]
        },
        {
          "output_type": "stream",
          "name": "stderr",
          "text": [
            "WARNING:langchain_text_splitters.base:Created a chunk of size 1088, which is longer than the specified 1000\n"
          ]
        },
        {
          "output_type": "stream",
          "name": "stdout",
          "text": [
            "Total number of chunks: 135\n",
            "Document types found: {'footballers', 'products', 'contracts', 'employees', 'company'}\n"
          ]
        }
      ],
      "source": [
        "# Read in documents using LangChain's loaders\n",
        "# Take everything in all the sub-folders of our knowledgebase\n",
        "\n",
        "folders = os.listdir(folder_path)\n",
        "print(folders)\n",
        "def add_metadata(doc, doc_type):\n",
        "    doc.metadata[\"doc_type\"] = doc_type\n",
        "    return doc\n",
        "\n",
        "text_loader_kwargs = {'encoding': 'utf-8'}\n",
        "\n",
        "documents = []\n",
        "for folder in folders:\n",
        "    full_path = os.path.join(folder_path, folder)\n",
        "    if os.path.isdir(full_path):\n",
        "      doc_type = os.path.basename(full_path)\n",
        "      loader = DirectoryLoader(full_path, glob=\"**/*.md\", loader_cls=TextLoader, loader_kwargs=text_loader_kwargs)\n",
        "      folder_docs = loader.load()\n",
        "      documents.extend([add_metadata(doc, doc_type) for doc in folder_docs])\n",
        "\n",
        "text_splitter = CharacterTextSplitter(chunk_size=1000, chunk_overlap=200)\n",
        "chunks = text_splitter.split_documents(documents)\n",
        "\n",
        "print(f\"Total number of chunks: {len(chunks)}\")\n",
        "print(f\"Document types found: {set(doc.metadata['doc_type'] for doc in documents)}\")"
      ]
    },
    {
      "cell_type": "markdown",
      "id": "77f7d2a6-ccfa-425b-a1c3-5e55b23bd013",
      "metadata": {
        "id": "77f7d2a6-ccfa-425b-a1c3-5e55b23bd013"
      },
      "source": [
        "## A sidenote on Embeddings, and \"Auto-Encoding LLMs\"\n",
        "\n",
        "We will be mapping each chunk of text into a Vector that represents the meaning of the text, known as an embedding.\n",
        "\n",
        "OpenAI offers a model to do this, which we will use by calling their API with some LangChain code.\n",
        "\n",
        "This model is an example of an \"Auto-Encoding LLM\" which generates an output given a complete input.\n",
        "It's different to all the other LLMs we've discussed today, which are known as \"Auto-Regressive LLMs\", and generate future tokens based only on past context.\n",
        "\n",
        "Another example of an Auto-Encoding LLMs is BERT from Google. In addition to embedding, Auto-encoding LLMs are often used for classification.\n"
      ]
    },
    {
      "cell_type": "code",
      "execution_count": 31,
      "id": "78998399-ac17-4e28-b15f-0b5f51e6ee23",
      "metadata": {
        "id": "78998399-ac17-4e28-b15f-0b5f51e6ee23",
        "outputId": "1f611934-f740-401f-e726-b731ef6051b4",
        "colab": {
          "base_uri": "https://localhost:8080/"
        }
      },
      "outputs": [
        {
          "output_type": "stream",
          "name": "stdout",
          "text": [
            "Vectorstore created with 135 documents\n"
          ]
        }
      ],
      "source": [
        "# Put the chunks of data into a Vector Store that associates a Vector Embedding with each chunk\n",
        "# Chroma is a popular open source Vector Database based on SQLLite\n",
        "\n",
        "embeddings = OpenAIEmbeddings(openai_api_key=openai_api_key)\n",
        "\n",
        "# If you would rather use the free Vector Embeddings from HuggingFace sentence-transformers\n",
        "# Then replace embeddings = OpenAIEmbeddings()\n",
        "# with:\n",
        "# from langchain.embeddings import HuggingFaceEmbeddings\n",
        "# embeddings = HuggingFaceEmbeddings(model_name=\"sentence-transformers/all-MiniLM-L6-v2\")\n",
        "\n",
        "if os.path.exists(db_name):\n",
        "    Chroma(persist_directory=db_name, embedding_function=embeddings).delete_collection()\n",
        "\n",
        "# Create vectorstore\n",
        "\n",
        "vectorstore = Chroma.from_documents(documents=chunks, embedding=embeddings, persist_directory=db_name)\n",
        "print(f\"Vectorstore created with {vectorstore._collection.count()} documents\")"
      ]
    },
    {
      "cell_type": "code",
      "execution_count": 32,
      "id": "ff2e7687-60d4-4920-a1d7-a34b9f70a250",
      "metadata": {
        "id": "ff2e7687-60d4-4920-a1d7-a34b9f70a250",
        "outputId": "14f1e89e-8f69-40db-a9fc-bcee3a3da93c",
        "colab": {
          "base_uri": "https://localhost:8080/"
        }
      },
      "outputs": [
        {
          "output_type": "stream",
          "name": "stdout",
          "text": [
            "There are 135 vectors with 1,536 dimensions in the vector store\n"
          ]
        }
      ],
      "source": [
        "# Let's investigate the vectors\n",
        "\n",
        "collection = vectorstore._collection\n",
        "count = collection.count()\n",
        "\n",
        "sample_embedding = collection.get(limit=1, include=[\"embeddings\"])[\"embeddings\"][0]\n",
        "dimensions = len(sample_embedding)\n",
        "print(f\"There are {count:,} vectors with {dimensions:,} dimensions in the vector store\")"
      ]
    },
    {
      "cell_type": "markdown",
      "id": "b0d45462-a818-441c-b010-b85b32bcf618",
      "metadata": {
        "id": "b0d45462-a818-441c-b010-b85b32bcf618"
      },
      "source": [
        "## Visualizing the Vector Store\n",
        "\n",
        "Let's take a minute to look at the documents and their embedding vectors to see what's going on."
      ]
    },
    {
      "cell_type": "code",
      "execution_count": 34,
      "id": "b98adf5e-d464-4bd2-9bdf-bc5b6770263b",
      "metadata": {
        "id": "b98adf5e-d464-4bd2-9bdf-bc5b6770263b"
      },
      "outputs": [],
      "source": [
        "# Prework (with thanks to Jon R for identifying and fixing a bug in this!)\n",
        "\n",
        "result = collection.get(include=['embeddings', 'documents', 'metadatas'])\n",
        "vectors = np.array(result['embeddings'])\n",
        "documents = result['documents']\n",
        "metadatas = result['metadatas']\n",
        "doc_types = [metadata['doc_type'] for metadata in metadatas]\n",
        "colors = [['blue', 'green', 'red', 'orange', 'purple'][['products', 'employees', 'contracts', 'company', 'footballers'].index(t)] for t in doc_types]"
      ]
    },
    {
      "cell_type": "code",
      "execution_count": 35,
      "id": "427149d5-e5d8-4abd-bb6f-7ef0333cca21",
      "metadata": {
        "id": "427149d5-e5d8-4abd-bb6f-7ef0333cca21",
        "colab": {
          "base_uri": "https://localhost:8080/",
          "height": 617
        },
        "outputId": "18304be5-2fed-46b4-948d-3e4d8d95a3f1"
      },
      "outputs": [
        {
          "output_type": "display_data",
          "data": {
            "text/html": [
              "<html>\n",
              "<head><meta charset=\"utf-8\" /></head>\n",
              "<body>\n",
              "    <div>            <script src=\"https://cdnjs.cloudflare.com/ajax/libs/mathjax/2.7.5/MathJax.js?config=TeX-AMS-MML_SVG\"></script><script type=\"text/javascript\">if (window.MathJax && window.MathJax.Hub && window.MathJax.Hub.Config) {window.MathJax.Hub.Config({SVG: {font: \"STIX-Web\"}});}</script>                <script type=\"text/javascript\">window.PlotlyConfig = {MathJaxConfig: 'local'};</script>\n",
              "        <script charset=\"utf-8\" src=\"https://cdn.plot.ly/plotly-3.0.1.min.js\"></script>                <div id=\"74a5deda-9301-443c-ac68-02d517b93460\" class=\"plotly-graph-div\" style=\"height:600px; width:800px;\"></div>            <script type=\"text/javascript\">                window.PLOTLYENV=window.PLOTLYENV || {};                                if (document.getElementById(\"74a5deda-9301-443c-ac68-02d517b93460\")) {                    Plotly.newPlot(                        \"74a5deda-9301-443c-ac68-02d517b93460\",                        [{\"hoverinfo\":\"text\",\"marker\":{\"color\":[\"blue\",\"blue\",\"blue\",\"blue\",\"blue\",\"blue\",\"blue\",\"blue\",\"blue\",\"blue\",\"blue\",\"blue\",\"blue\",\"blue\",\"blue\",\"blue\",\"blue\",\"blue\",\"blue\",\"blue\",\"blue\",\"red\",\"red\",\"red\",\"red\",\"red\",\"red\",\"red\",\"red\",\"red\",\"red\",\"red\",\"red\",\"red\",\"red\",\"red\",\"red\",\"red\",\"red\",\"red\",\"red\",\"red\",\"red\",\"red\",\"red\",\"red\",\"red\",\"red\",\"red\",\"red\",\"red\",\"red\",\"red\",\"red\",\"red\",\"red\",\"red\",\"red\",\"red\",\"red\",\"red\",\"red\",\"red\",\"red\",\"red\",\"red\",\"red\",\"red\",\"red\",\"red\",\"red\",\"red\",\"red\",\"purple\",\"purple\",\"purple\",\"purple\",\"purple\",\"purple\",\"purple\",\"purple\",\"purple\",\"purple\",\"purple\",\"purple\",\"orange\",\"orange\",\"orange\",\"green\",\"green\",\"green\",\"green\",\"green\",\"green\",\"green\",\"green\",\"green\",\"green\",\"green\",\"green\",\"green\",\"green\",\"green\",\"green\",\"green\",\"green\",\"green\",\"green\",\"green\",\"green\",\"green\",\"green\",\"green\",\"green\",\"green\",\"green\",\"green\",\"green\",\"green\",\"green\",\"green\",\"green\",\"green\",\"green\",\"green\",\"green\",\"green\",\"green\",\"green\",\"green\",\"green\",\"green\",\"green\",\"green\",\"green\"],\"opacity\":0.8,\"size\":5},\"mode\":\"markers\",\"text\":[\"Type: products\\u003cbr\\u003eText: # Product Summary\\n\\n# Carllm\\n\\n## Summary\\n\\nCarllm is an innovative auto insurance product developed by...\",\"Type: products\\u003cbr\\u003eText: - **Instant Quoting**: With Carllm, insurance companies can offer near-instant quotes to customers, ...\",\"Type: products\\u003cbr\\u003eText: - **Mobile Integration**: Carllm is designed to work seamlessly with mobile applications, providing ...\",\"Type: products\\u003cbr\\u003eText: - **Professional Tier**: $2,500\\u002fmonth\\n  - For medium-sized companies.\\n  - All Basic Tier features pl...\",\"Type: products\\u003cbr\\u003eText: ### Q2 2025: Customer Experience Improvements\\n- Launch of a new **mobile app** for end-users.\\n- Intr...\",\"Type: products\\u003cbr\\u003eText: # Product Summary\\n\\n# Homellm\\n\\n## Summary\\nHomellm is an innovative home insurance product developed b...\",\"Type: products\\u003cbr\\u003eText: ### 2. Dynamic Pricing Model\\nWith Homellm's innovative dynamic pricing model, insurance providers ca...\",\"Type: products\\u003cbr\\u003eText: ### 5. Multi-Channel Integration\\nHomellm seamlessly integrates into existing insurance platforms, pr...\",\"Type: products\\u003cbr\\u003eText: - **Basic Tier:** Starting at $5,000\\u002fmonth for small insurers with basic integration features.\\n- **S...\",\"Type: products\\u003cbr\\u003eText: All tiers include a comprehensive training program and ongoing updates to ensure optimal performance...\",\"Type: products\\u003cbr\\u003eText: With Homellm, Insurellm is committed to transforming the landscape of home insurance, ensuring both ...\",\"Type: products\\u003cbr\\u003eText: # Product Summary\\n\\n# Rellm: AI-Powered Enterprise Reinsurance Solution\\n\\n## Summary\\n\\nRellm is an inno...\",\"Type: products\\u003cbr\\u003eText: ### Seamless Integrations\\nRellm's architecture is designed for effortless integration with existing ...\",\"Type: products\\u003cbr\\u003eText: ### Regulatory Compliance Tools\\nRellm includes built-in compliance tracking features to help organiz...\",\"Type: products\\u003cbr\\u003eText: Join the growing number of organizations leveraging Rellm to enhance their reinsurance processes whi...\",\"Type: products\\u003cbr\\u003eText: Experience the future of reinsurance with Rellm, where innovation meets reliability. Let Insurellm h...\",\"Type: products\\u003cbr\\u003eText: # Product Summary\\n\\n# Markellm\\n\\n## Summary\\n\\nMarkellm is an innovative two-sided marketplace designed ...\",\"Type: products\\u003cbr\\u003eText: - **User-Friendly Interface**: Designed with user experience in mind, Markellm features an intuitive...\",\"Type: products\\u003cbr\\u003eText: - **Customer Support**: Our dedicated support team is always available to assist both consumers and ...\",\"Type: products\\u003cbr\\u003eText: ### For Insurance Companies:\\n- **Basic Listing Fee**: $199\\u002fmonth for a featured listing on the platf...\",\"Type: products\\u003cbr\\u003eText: ### Q3 2025\\n- Initiate a comprehensive marketing campaign targeting both consumers and insurers to i...\",\"Type: contracts\\u003cbr\\u003eText: # Contract with BrightWay Solutions for Markellm\\n\\n**Contract Date:** October 5, 2023  \\n**Contract ID...\",\"Type: contracts\\u003cbr\\u003eText: 3. **Service Level Agreement (SLA):**  \\n   Insurellm commits to a 99.9% uptime for the platform with...\",\"Type: contracts\\u003cbr\\u003eText: 2. **Real-Time Quote Availability:**  \\n   Consumers sourced via BrightWay Solutions will receive rea...\",\"Type: contracts\\u003cbr\\u003eText: 3. **Training and Onboarding:**  \\n   Insurellm agrees to provide one free training session on how to...\",\"Type: contracts\\u003cbr\\u003eText: # Contract with Belvedere Insurance for Markellm\\n\\n## Terms\\nThis Contract (\\\"Agreement\\\") is made and e...\",\"Type: contracts\\u003cbr\\u003eText: ## Renewal\\n1. **Renewal Terms**: This Agreement may be renewed for additional one-year terms upon mu...\",\"Type: contracts\\u003cbr\\u003eText: ## Features\\n1. **AI-Powered Matching**: Belvedere Insurance will benefit from Markellm's AI-powered ...\",\"Type: contracts\\u003cbr\\u003eText: ## Support\\n1. **Technical Support**: Technical support will be available from 9 AM to 7 PM EST, Mond...\",\"Type: contracts\\u003cbr\\u003eText: **Belvedere Insurance**  \\nSignature: ______________________  \\nName: [Authorized Signatory]  \\nTitle: ...\",\"Type: contracts\\u003cbr\\u003eText: # Contract with Pinnacle Insurance Co. for Homellm\\n\\n## Terms\\nThis contract (\\\"Contract\\\") is entered i...\",\"Type: contracts\\u003cbr\\u003eText: ## Renewal\\n1. **Renewal Terms**: At the end of the initial term, this Contract shall automatically r...\",\"Type: contracts\\u003cbr\\u003eText: ## Features\\n1. **AI-Powered Risk Assessment**: Utilized for tailored underwriting decisions specific...\",\"Type: contracts\\u003cbr\\u003eText: ## Support\\n1. **Technical Support**: Insurellm shall provide 24\\u002f7 technical support via an email and...\",\"Type: contracts\\u003cbr\\u003eText: # Contract with Velocity Auto Solutions for Carllm\\n\\n**Contract Date:** October 1, 2023  \\n**Contract ...\",\"Type: contracts\\u003cbr\\u003eText: ## Renewal\\n\\n1. **Automatic Renewal**: This contract will automatically renew for successive 12-month...\",\"Type: contracts\\u003cbr\\u003eText: ## Support\\n\\n1. **Customer Support**: Velocity Auto Solutions will have access to Insurellm’s custome...\",\"Type: contracts\\u003cbr\\u003eText: # Contract with GreenValley Insurance for Homellm\\n\\n**Contract Date:** October 6, 2023  \\n**Contract N...\",\"Type: contracts\\u003cbr\\u003eText: 4. **Confidentiality:** Both parties agree to maintain the confidentiality of proprietary informatio...\",\"Type: contracts\\u003cbr\\u003eText: 1. **AI-Powered Risk Assessment:** Access to advanced AI algorithms for real-time risk evaluations.\\n...\",\"Type: contracts\\u003cbr\\u003eText: 3. **Regular Updates:** Insurellm will offer ongoing updates and enhancements to the Homellm platfor...\",\"Type: contracts\\u003cbr\\u003eText: # Contract with EverGuard Insurance for Rellm: AI-Powered Enterprise Reinsurance Solution\\n\\n**Contrac...\",\"Type: contracts\\u003cbr\\u003eText: 4. **Usage Rights**: EverGuard Insurance is granted a non-exclusive, non-transferable license to acc...\",\"Type: contracts\\u003cbr\\u003eText: 1. **Core Functionality**: Rellm provides EverGuard Insurance with advanced AI-driven analytics, sea...\",\"Type: contracts\\u003cbr\\u003eText: 1. **Customer Support**: Insurellm will provide EverGuard Insurance with 24\\u002f7 customer support, incl...\",\"Type: contracts\\u003cbr\\u003eText: ---\\n\\n**Signatures**  \\n**For Insurellm**: __________________________  \\n**Name**: John Smith  \\n**Title...\",\"Type: contracts\\u003cbr\\u003eText: # Contract with Apex Reinsurance for Rellm: AI-Powered Enterprise Reinsurance Solution\\n\\n## Terms\\n\\n1....\",\"Type: contracts\\u003cbr\\u003eText: ## Renewal\\n\\n1. **Automatic Renewal**: This Agreement will automatically renew for successive one-yea...\",\"Type: contracts\\u003cbr\\u003eText: 2. **Seamless Integrations**: The architecture of Rellm allows for easy integration with existing sy...\",\"Type: contracts\\u003cbr\\u003eText: 1. **Technical Support**: Provider shall offer dedicated technical support to the Client via phone, ...\",\"Type: contracts\\u003cbr\\u003eText: **Insurellm, Inc.**  \\n_____________________________  \\nAuthorized Signature   \\nDate: ________________...\",\"Type: contracts\\u003cbr\\u003eText: # Contract with GreenField Holdings for Markellm\\n\\n**Effective Date:** November 15, 2023  \\n**Contract...\",\"Type: contracts\\u003cbr\\u003eText: ## Renewal\\n1. **Automatic Renewal**: This contract will automatically renew for sequential one-year ...\",\"Type: contracts\\u003cbr\\u003eText: ## Features\\n1. **AI-Powered Matching**: Access to advanced algorithms that connect GreenField Holdin...\",\"Type: contracts\\u003cbr\\u003eText: ## Support\\n1. **Customer Support Access**: The Client will have access to dedicated support through ...\",\"Type: contracts\\u003cbr\\u003eText: **Signatures:**  \\n_________________________                           _________________________  \\n**...\",\"Type: contracts\\u003cbr\\u003eText: # Contract with Greenstone Insurance for Homellm\\n\\n---\\n\\n## Terms\\n\\n1. **Parties**: This Contract (\\\"Agr...\",\"Type: contracts\\u003cbr\\u003eText: 4. **Payment Terms**: \\n   - The Customer shall pay an amount of $10,000 per month for the Standard T...\",\"Type: contracts\\u003cbr\\u003eText: ---\\n\\n## Features\\n\\n- **AI-Powered Risk Assessment**: Customer will have access to enhanced risk evalu...\",\"Type: contracts\\u003cbr\\u003eText: - **Customer Portal**: A dedicated portal will be provided, allowing the Customer's clients to manag...\",\"Type: contracts\\u003cbr\\u003eText: ______________________________  \\n[Name], [Title]  \\nDate: ______________________\\n\\n**For Greenstone In...\",\"Type: contracts\\u003cbr\\u003eText: # Contract with TechDrive Insurance for Carllm\\n\\n**Contract Date:** October 1, 2024  \\n**Contract Dura...\",\"Type: contracts\\u003cbr\\u003eText: ## Renewal\\n\\n1. **Automatic Renewal**: This contract shall automatically renew for additional one-yea...\",\"Type: contracts\\u003cbr\\u003eText: ## Support\\n\\n1. **Customer Support**: Insurellm will provide 24\\u002f7 customer support to TechDrive Insur...\",\"Type: contracts\\u003cbr\\u003eText: **TechDrive Insurance Representative:**  \\nName: Sarah Johnson  \\nTitle: Operations Director  \\nDate: _...\",\"Type: contracts\\u003cbr\\u003eText: # Contract with Roadway Insurance Inc. for Carllm\\n\\n---\\n\\n## Terms\\n\\n1. **Agreement Effective Date**: T...\",\"Type: contracts\\u003cbr\\u003eText: ---\\n\\n## Renewal\\n\\n1. **Automatic Renewal**: This agreement will automatically renew for an additional...\",\"Type: contracts\\u003cbr\\u003eText: ---\\n\\n## Features\\n\\n1. **Access to Core Features**: Roadway Insurance Inc. will have access to all Pro...\",\"Type: contracts\\u003cbr\\u003eText: ---\\n\\n## Support\\n\\n1. **Technical Support**: Roadway Insurance Inc. will receive priority technical su...\",\"Type: contracts\\u003cbr\\u003eText: # Contract with Stellar Insurance Co. for Rellm\\n\\n## Terms\\nThis contract is made between **Insurellm*...\",\"Type: contracts\\u003cbr\\u003eText: ### Termination\\nEither party may terminate this agreement with a **30-day written notice**. In the e...\",\"Type: contracts\\u003cbr\\u003eText: ## Features\\nStellar Insurance Co. will receive access to the following features of the Rellm product...\",\"Type: contracts\\u003cbr\\u003eText: ## Support\\nInsurellm provides Stellar Insurance Co. with the following support services:\\n\\n- **24\\u002f7 T...\",\"Type: footballers\\u003cbr\\u003eText: איקר קסיאס – השוער שהפך לאגדה\\nאיקר קסיאס פרננדס נולד ב־20 במאי 1981 בעיר מוסטולס שבמחוז מדריד, ספרד....\",\"Type: footballers\\u003cbr\\u003eText: אחד הרגעים הזכורים ביותר מהקריירה שלו התרחש בגמר ליגת האלופות ב־2002 מול באייר לברקוזן. למרות שהמשחק...\",\"Type: footballers\\u003cbr\\u003eText: היכולות של קסיאס היו שילוב נדיר של אינסטינקטים חדים, תגובה מהירה, שליטה ברחבה ונוכחות סמכותית. הוא ל...\",\"Type: footballers\\u003cbr\\u003eText: לאחר הפרישה פנה קסיאס לעולם הניהול והפוליטיקה של הספורט. הוא ניסה להתמודד לנשיאות התאחדות הכדורגל הס...\",\"Type: footballers\\u003cbr\\u003eText: כריסטיאנו רונאלדו – מסע של אגדה\\nכריסטיאנו רונאלדו דוש סנטוש אביירו נולד בפברואר 1985 בפונשל, שבאי מד...\",\"Type: footballers\\u003cbr\\u003eText: הפריצה הבינלאומית הגיעה בשנת 2003, כאשר ספורטינג ניצחה את מנצ'סטר יונייטד במשחק ידידות, ורונאלדו כיכ...\",\"Type: footballers\\u003cbr\\u003eText: ב-2018 עבר רונאלדו ליובנטוס האיטלקית, שם המשיך להפגין יכולת גבוהה ולזכות בתארים מקומיים. לאחר מכן חז...\",\"Type: footballers\\u003cbr\\u003eText: גם מחוץ למגרש רונאלדו הוא דמות מרכזית: הוא פרזנטור של מותגים בינלאומיים, בעל עסקי אופנה, והספורטאי ע...\",\"Type: footballers\\u003cbr\\u003eText: ליונל מסי – הקוסם מארגנטינה\\nליונל אנדרס מסי קוצ'יטיני נולד ב־24 ביוני 1987 בעיר רוסאריו שבארגנטינה. ...\",\"Type: footballers\\u003cbr\\u003eText: הופעת הבכורה שלו בקבוצה הבוגרת של ברצלונה הייתה בגיל 17 בלבד, בשנת 2004. כבר מהמשחקים הראשונים ניתן ...\",\"Type: footballers\\u003cbr\\u003eText: לאורך הקריירה שלו, מסי התמודד גם עם ביקורת כלפי יכולתו להוביל את נבחרת ארגנטינה להישגים. במשך שנים ר...\",\"Type: footballers\\u003cbr\\u003eText: מחוץ למגרש, מסי נחשב לדמות צנועה, משפחתית ומאופקת. הוא נשוי לאהבת נעוריו, אנטונלה, ואב לשלושה. לאורך...\",\"Type: company\\u003cbr\\u003eText: # About Insurellm\\n\\nInsurellm was founded by Avery Lancaster in 2015 as an insurance tech startup des...\",\"Type: company\\u003cbr\\u003eText: # Overview of Insurellm\\n\\nInsurellm is an innovative insurance tech firm with 200 employees across th...\",\"Type: company\\u003cbr\\u003eText: # Careers at Insurellm\\n\\nInsurellm is hiring! We are looking for talented software engineers, data sc...\",\"Type: employees\\u003cbr\\u003eText: # HR Record\\n\\n# Emily Carter\\n\\n## Summary\\n- **Date of Birth:** August 12, 1990  \\n- **Job Title:** Acco...\",\"Type: employees\\u003cbr\\u003eText: - **2017-2019:** Marketing Intern  \\n  - Assisted with market research and campaign development for s...\",\"Type: employees\\u003cbr\\u003eText: ## Compensation History\\n| Year | Base Salary | Bonus         | Total Compensation |\\n|------|--------...\",\"Type: employees\\u003cbr\\u003eText: Emily Carter exemplifies the kind of talent that drives Insurellm's success and is an invaluable ass...\",\"Type: employees\\u003cbr\\u003eText: # HR Record\\n\\n# Jordan K. Bishop\\n\\n## Summary\\n- **Date of Birth:** March 15, 1990\\n- **Job Title:** Fro...\",\"Type: employees\\u003cbr\\u003eText: ## Annual Performance History\\n- **2019:** Exceeds Expectations - Continuously delivered high-quality...\",\"Type: employees\\u003cbr\\u003eText: ## Compensation History\\n- **June 2018:** Starting Salary - $85,000\\n- **June 2019:** Salary Increase ...\",\"Type: employees\\u003cbr\\u003eText: ## Other HR Notes\\n- Jordan K. Bishop has been an integral part of club initiatives, including the In...\",\"Type: employees\\u003cbr\\u003eText: # Samantha Greene\\n\\n## Summary\\n- **Date of Birth:** October 14, 1990\\n- **Job Title:** HR Generalist\\n-...\",\"Type: employees\\u003cbr\\u003eText: ## Annual Performance History\\n- **2020:** Exceeds Expectations  \\n  Samantha Greene demonstrated exce...\",\"Type: employees\\u003cbr\\u003eText: ## Compensation History\\n- **2020:** Base Salary - $55,000  \\n  The entry-level salary matched industr...\",\"Type: employees\\u003cbr\\u003eText: - **2023:** Base Salary - $70,000  \\n  Recognized for substantial improvement in employee relations m...\",\"Type: employees\\u003cbr\\u003eText: # HR Record\\n\\n# Alex Thomson\\n\\n## Summary\\n- **Date of Birth:** March 15, 1995  \\n- **Job Title:** Sales...\",\"Type: employees\\u003cbr\\u003eText: ## Annual Performance History  \\n- **2022** - Rated as \\\"Exceeds Expectations.\\\" Alex Thomson achieved ...\",\"Type: employees\\u003cbr\\u003eText: ## Other HR Notes\\n- Alex Thomson is an active member of the Diversity and Inclusion committee at Ins...\",\"Type: employees\\u003cbr\\u003eText: # Avery Lancaster\\n\\n## Summary\\n- **Date of Birth**: March 15, 1985  \\n- **Job Title**: Co-Founder & Ch...\",\"Type: employees\\u003cbr\\u003eText: - **2010 - 2013**: Business Analyst at Edge Analytics  \\n  Prior to joining Innovate, Avery worked as...\",\"Type: employees\\u003cbr\\u003eText: - **2018**: **Exceeds Expectations**  \\n  Under Avery’s pivoted vision, Insurellm launched two new su...\",\"Type: employees\\u003cbr\\u003eText: - **2022**: **Satisfactory**  \\n  Avery focused on rebuilding team dynamics and addressing employee c...\",\"Type: employees\\u003cbr\\u003eText: ## Compensation History\\n- **2015**: $150,000 base salary + Significant equity stake  \\n- **2016**: $1...\",\"Type: employees\\u003cbr\\u003eText: ## Other HR Notes\\n- **Professional Development**: Avery has actively participated in leadership trai...\",\"Type: employees\\u003cbr\\u003eText: # HR Record\\n\\n# Emily Tran\\n\\n## Summary\\n- **Date of Birth:** March 18, 1991  \\n- **Job Title:** Digital...\",\"Type: employees\\u003cbr\\u003eText: - **January 2017 - May 2018**: Marketing Intern  \\n  - Supported the Marketing team by collaborating ...\",\"Type: employees\\u003cbr\\u003eText: - **2021**:  \\n  - Performance Rating: Meets Expectations  \\n  - Key Achievements: Contributed to the ...\",\"Type: employees\\u003cbr\\u003eText: - **Professional Development Goals**:  \\n  - Emily Tran aims to become a Marketing Manager within the...\",\"Type: employees\\u003cbr\\u003eText: # HR Record\\n\\n# Jordan Blake\\n\\n## Summary\\n- **Date of Birth:** March 15, 1993  \\n- **Job Title:** Sales...\",\"Type: employees\\u003cbr\\u003eText: ## Annual Performance History\\n- **2021:** First year at Insurellm; achieved 90% of monthly targets. ...\",\"Type: employees\\u003cbr\\u003eText: ## Other HR Notes\\n- Jordan has shown an interest in continuing education, actively participating in ...\",\"Type: employees\\u003cbr\\u003eText: # HR Record\\n\\n# Maxine Thompson\\n\\n## Summary\\n- **Date of Birth:** January 15, 1991  \\n- **Job Title:** ...\",\"Type: employees\\u003cbr\\u003eText: ## Insurellm Career Progression\\n- **January 2017 - October 2018**: **Junior Data Engineer**  \\n  * Ma...\",\"Type: employees\\u003cbr\\u003eText: ## Annual Performance History\\n- **2017**: *Meets Expectations*  \\n  Maxine showed potential in her ro...\",\"Type: employees\\u003cbr\\u003eText: - **2021**: *Exceeds Expectations*  \\n  Maxine spearheaded the transition to a new data warehousing s...\",\"Type: employees\\u003cbr\\u003eText: ## Compensation History\\n- **2017**: $70,000 (Junior Data Engineer)  \\n- **2018**: $75,000 (Junior Dat...\",\"Type: employees\\u003cbr\\u003eText: # HR Record\\n\\n# Samuel Trenton\\n\\n## Summary\\n- **Date of Birth:** April 12, 1989  \\n- **Job Title:** Sen...\",\"Type: employees\\u003cbr\\u003eText: ## Annual Performance History\\n- **2023:** Rating: 4.5\\u002f5  \\n  *Samuel exceeded expectations, successfu...\",\"Type: employees\\u003cbr\\u003eText: ## Compensation History\\n- **2023:** Base Salary: $115,000 + Bonus: $15,000  \\n  *Annual bonus based o...\",\"Type: employees\\u003cbr\\u003eText: - **Engagement in Company Culture:** Regularly participates in team-building events and contributes ...\",\"Type: employees\\u003cbr\\u003eText: # HR Record\\n\\n# Oliver Spencer\\n\\n## Summary\\n- **Date of Birth**: May 14, 1990  \\n- **Job Title**: Backe...\",\"Type: employees\\u003cbr\\u003eText: ## Annual Performance History\\n- **2018**: **3\\u002f5** - Adaptable team player but still learning to take...\",\"Type: employees\\u003cbr\\u003eText: ## Compensation History\\n- **March 2018**: Initial salary of $80,000.\\n- **July 2019**: Salary increas...\",\"Type: employees\\u003cbr\\u003eText: # HR Record\\n\\n# Alex Harper\\n\\n## Summary\\n- **Date of Birth**: March 15, 1993  \\n- **Job Title**: Sales ...\",\"Type: employees\\u003cbr\\u003eText: ## Annual Performance History  \\n- **2021**:  \\n  - **Performance Rating**: 4.5\\u002f5  \\n  - **Key Achievem...\",\"Type: employees\\u003cbr\\u003eText: - **2022**:  \\n  - **Base Salary**: $65,000 (Promotion to Senior SDR)  \\n  - **Bonus**: $13,000 (20% o...\",\"Type: employees\\u003cbr\\u003eText: # HR Record\\n\\n# Alex Chen\\n\\n## Summary\\n- **Date of Birth:** March 15, 1990  \\n- **Job Title:** Backend ...\",\"Type: employees\\u003cbr\\u003eText: ## Annual Performance History\\n- **2020:**  \\n  - Completed onboarding successfully.  \\n  - Met expecta...\",\"Type: employees\\u003cbr\\u003eText: ## Compensation History\\n- **2020:** Base Salary: $80,000  \\n- **2021:** Base Salary Increase to $90,0...\",\"Type: employees\\u003cbr\\u003eText: Alex Chen continues to be a vital asset at Insurellm, contributing significantly to innovative backe...\"],\"x\":{\"dtype\":\"f4\",\"bdata\":\"TqHMwIY9z8Bm6NzAMQLdwGWRsMDqMBDAHYk\\u002fwNiLEsBNTRHAxOr6vwqhgL+0BwPAQDocwCZM0L9jXTnAbjGAv\\u002fhsj8Ar7JbA6zOrwAymvcAdAI7Avy\\u002fCwPvx0MCeELzAn\\u002fS2wMJFz8ANkB7B+deYwH15gcC7Uk7Ay4\\u002fPwGSFHMGibIDAWbeRwJ6zEMHRS\\u002fzAXB8MwVPtyMAYC73ALuuAwHKxp8CwcVrA3BdOwJlHH8CwayDAzMXiv8FEhcBMTXvAzBcqwP+NdsAatyPANS\\u002fDwCrYGcH3wZ\\u002fAzprKwBHDKMAM0cbApHf9wGESXsDoW6TAvQE1wPZoF8HVaQPBwFIUwSSsH8E38RvB5vAVwcgB\\u002fcCUsAfBG9ABwGdFFsBy+9a\\u002fKibovzHO9ECnDgBBV6LqQJWC5UBOqBZB72kKQYGbDEEbThFBF5AOQSZZAkEXdQNBS9b2QK9k1T5vuBs+BqmaP2nC4EB16O1APkIrQSq9fEA8OeJANCcOQUX0SEEYp+VA7MIPQRaBDUFkzSBBTAAbQcqGDEGgFTVBdt4QQWpEjkA\\u002fg75ADbHEQKV0wkBHaUpBHz2UQC9d3UDZTdtAxm4kQc3t0kCaHwNBlusxQQB09UB4w7xAj3gxQfVAAUFolulAMwk8QQC7\\u002fkCUUC1BlF8\\u002fQVkpCUG4HeFARfYSQRELOUE1XgxBdPk2Qa3JREE\\u002f6uRATicUQXq4NkFMI15A\"},\"y\":{\"dtype\":\"f4\",\"bdata\":\"oOSowI36qMAfHJDArcuEwDaPlsBxYqHAVUO5wCW3rcDs+93Aoz\\u002fVwPZtjsA8FTfA2e0IwPJE4r\\u002fS82LArOtFwF+DYsDbfFLANE06wL\\u002fGLsCgxITAnw5EPkX2LL9l06C\\u002ffvzFPlOIbD+egCNAiRUewPtCFEADM4FAQkwwQOMYG0A4rNvAQ2geQK60BL9V2Iq\\u002fyukEwN4aZ0CZv2dAwU++wLQrc0D1Gqs+blsBvw1jjb9Scp89NJFBQPATvz7zaDK\\u002fsVLov4r72D8bpIpAP\\u002fy6PzxfFUBCHM3Aq1USwLN7mUBSHCxAawk9QIrtw8Ax8ChAig+iQAYmeb88kY+\\u002fHNwKwA26A8B7uqi9PSOPP1X4ZsAHHi7AMfmdP1yWtj8xq2O\\u002f3nm5PkSCAEG4mANBPMcKQcUIDEFgvwpBhxUKQUS6FEGwFBVBimEBQcc4DkHpORhBeKcZQQECQsBgO0rAvypBwK11VMAD2FO\\u002fVZcDwGD8K8BkK6rA2m2xP2wqH8De0MbADEI\\u002fwLlzQb2Wqx\\u002fAivYnwBKXpcAnM5w+buC3wI73Bb9m3yg\\u002fw8ieP9dhrj8kY+K\\u002fxFzVvrwQKsDdIeu\\u002fSEecvyW9BMAwbpvA1Om4v9U6yMDRxZXAIDyHwLOxZD+\\u002f0Wo\\u002fd3tawHaId8BhBKe+DWSyv6HprL8bV5DAsPF5P0PpHcDoRZrArbcdvxvOA7+ig4\\u002fA8+yLP\\u002fhfBsBDRCrA\"},\"type\":\"scatter\"}],                        {\"template\":{\"data\":{\"histogram2dcontour\":[{\"type\":\"histogram2dcontour\",\"colorbar\":{\"outlinewidth\":0,\"ticks\":\"\"},\"colorscale\":[[0.0,\"#0d0887\"],[0.1111111111111111,\"#46039f\"],[0.2222222222222222,\"#7201a8\"],[0.3333333333333333,\"#9c179e\"],[0.4444444444444444,\"#bd3786\"],[0.5555555555555556,\"#d8576b\"],[0.6666666666666666,\"#ed7953\"],[0.7777777777777778,\"#fb9f3a\"],[0.8888888888888888,\"#fdca26\"],[1.0,\"#f0f921\"]]}],\"choropleth\":[{\"type\":\"choropleth\",\"colorbar\":{\"outlinewidth\":0,\"ticks\":\"\"}}],\"histogram2d\":[{\"type\":\"histogram2d\",\"colorbar\":{\"outlinewidth\":0,\"ticks\":\"\"},\"colorscale\":[[0.0,\"#0d0887\"],[0.1111111111111111,\"#46039f\"],[0.2222222222222222,\"#7201a8\"],[0.3333333333333333,\"#9c179e\"],[0.4444444444444444,\"#bd3786\"],[0.5555555555555556,\"#d8576b\"],[0.6666666666666666,\"#ed7953\"],[0.7777777777777778,\"#fb9f3a\"],[0.8888888888888888,\"#fdca26\"],[1.0,\"#f0f921\"]]}],\"heatmap\":[{\"type\":\"heatmap\",\"colorbar\":{\"outlinewidth\":0,\"ticks\":\"\"},\"colorscale\":[[0.0,\"#0d0887\"],[0.1111111111111111,\"#46039f\"],[0.2222222222222222,\"#7201a8\"],[0.3333333333333333,\"#9c179e\"],[0.4444444444444444,\"#bd3786\"],[0.5555555555555556,\"#d8576b\"],[0.6666666666666666,\"#ed7953\"],[0.7777777777777778,\"#fb9f3a\"],[0.8888888888888888,\"#fdca26\"],[1.0,\"#f0f921\"]]}],\"contourcarpet\":[{\"type\":\"contourcarpet\",\"colorbar\":{\"outlinewidth\":0,\"ticks\":\"\"}}],\"contour\":[{\"type\":\"contour\",\"colorbar\":{\"outlinewidth\":0,\"ticks\":\"\"},\"colorscale\":[[0.0,\"#0d0887\"],[0.1111111111111111,\"#46039f\"],[0.2222222222222222,\"#7201a8\"],[0.3333333333333333,\"#9c179e\"],[0.4444444444444444,\"#bd3786\"],[0.5555555555555556,\"#d8576b\"],[0.6666666666666666,\"#ed7953\"],[0.7777777777777778,\"#fb9f3a\"],[0.8888888888888888,\"#fdca26\"],[1.0,\"#f0f921\"]]}],\"surface\":[{\"type\":\"surface\",\"colorbar\":{\"outlinewidth\":0,\"ticks\":\"\"},\"colorscale\":[[0.0,\"#0d0887\"],[0.1111111111111111,\"#46039f\"],[0.2222222222222222,\"#7201a8\"],[0.3333333333333333,\"#9c179e\"],[0.4444444444444444,\"#bd3786\"],[0.5555555555555556,\"#d8576b\"],[0.6666666666666666,\"#ed7953\"],[0.7777777777777778,\"#fb9f3a\"],[0.8888888888888888,\"#fdca26\"],[1.0,\"#f0f921\"]]}],\"mesh3d\":[{\"type\":\"mesh3d\",\"colorbar\":{\"outlinewidth\":0,\"ticks\":\"\"}}],\"scatter\":[{\"fillpattern\":{\"fillmode\":\"overlay\",\"size\":10,\"solidity\":0.2},\"type\":\"scatter\"}],\"parcoords\":[{\"type\":\"parcoords\",\"line\":{\"colorbar\":{\"outlinewidth\":0,\"ticks\":\"\"}}}],\"scatterpolargl\":[{\"type\":\"scatterpolargl\",\"marker\":{\"colorbar\":{\"outlinewidth\":0,\"ticks\":\"\"}}}],\"bar\":[{\"error_x\":{\"color\":\"#2a3f5f\"},\"error_y\":{\"color\":\"#2a3f5f\"},\"marker\":{\"line\":{\"color\":\"#E5ECF6\",\"width\":0.5},\"pattern\":{\"fillmode\":\"overlay\",\"size\":10,\"solidity\":0.2}},\"type\":\"bar\"}],\"scattergeo\":[{\"type\":\"scattergeo\",\"marker\":{\"colorbar\":{\"outlinewidth\":0,\"ticks\":\"\"}}}],\"scatterpolar\":[{\"type\":\"scatterpolar\",\"marker\":{\"colorbar\":{\"outlinewidth\":0,\"ticks\":\"\"}}}],\"histogram\":[{\"marker\":{\"pattern\":{\"fillmode\":\"overlay\",\"size\":10,\"solidity\":0.2}},\"type\":\"histogram\"}],\"scattergl\":[{\"type\":\"scattergl\",\"marker\":{\"colorbar\":{\"outlinewidth\":0,\"ticks\":\"\"}}}],\"scatter3d\":[{\"type\":\"scatter3d\",\"line\":{\"colorbar\":{\"outlinewidth\":0,\"ticks\":\"\"}},\"marker\":{\"colorbar\":{\"outlinewidth\":0,\"ticks\":\"\"}}}],\"scattermap\":[{\"type\":\"scattermap\",\"marker\":{\"colorbar\":{\"outlinewidth\":0,\"ticks\":\"\"}}}],\"scattermapbox\":[{\"type\":\"scattermapbox\",\"marker\":{\"colorbar\":{\"outlinewidth\":0,\"ticks\":\"\"}}}],\"scatterternary\":[{\"type\":\"scatterternary\",\"marker\":{\"colorbar\":{\"outlinewidth\":0,\"ticks\":\"\"}}}],\"scattercarpet\":[{\"type\":\"scattercarpet\",\"marker\":{\"colorbar\":{\"outlinewidth\":0,\"ticks\":\"\"}}}],\"carpet\":[{\"aaxis\":{\"endlinecolor\":\"#2a3f5f\",\"gridcolor\":\"white\",\"linecolor\":\"white\",\"minorgridcolor\":\"white\",\"startlinecolor\":\"#2a3f5f\"},\"baxis\":{\"endlinecolor\":\"#2a3f5f\",\"gridcolor\":\"white\",\"linecolor\":\"white\",\"minorgridcolor\":\"white\",\"startlinecolor\":\"#2a3f5f\"},\"type\":\"carpet\"}],\"table\":[{\"cells\":{\"fill\":{\"color\":\"#EBF0F8\"},\"line\":{\"color\":\"white\"}},\"header\":{\"fill\":{\"color\":\"#C8D4E3\"},\"line\":{\"color\":\"white\"}},\"type\":\"table\"}],\"barpolar\":[{\"marker\":{\"line\":{\"color\":\"#E5ECF6\",\"width\":0.5},\"pattern\":{\"fillmode\":\"overlay\",\"size\":10,\"solidity\":0.2}},\"type\":\"barpolar\"}],\"pie\":[{\"automargin\":true,\"type\":\"pie\"}]},\"layout\":{\"autotypenumbers\":\"strict\",\"colorway\":[\"#636efa\",\"#EF553B\",\"#00cc96\",\"#ab63fa\",\"#FFA15A\",\"#19d3f3\",\"#FF6692\",\"#B6E880\",\"#FF97FF\",\"#FECB52\"],\"font\":{\"color\":\"#2a3f5f\"},\"hovermode\":\"closest\",\"hoverlabel\":{\"align\":\"left\"},\"paper_bgcolor\":\"white\",\"plot_bgcolor\":\"#E5ECF6\",\"polar\":{\"bgcolor\":\"#E5ECF6\",\"angularaxis\":{\"gridcolor\":\"white\",\"linecolor\":\"white\",\"ticks\":\"\"},\"radialaxis\":{\"gridcolor\":\"white\",\"linecolor\":\"white\",\"ticks\":\"\"}},\"ternary\":{\"bgcolor\":\"#E5ECF6\",\"aaxis\":{\"gridcolor\":\"white\",\"linecolor\":\"white\",\"ticks\":\"\"},\"baxis\":{\"gridcolor\":\"white\",\"linecolor\":\"white\",\"ticks\":\"\"},\"caxis\":{\"gridcolor\":\"white\",\"linecolor\":\"white\",\"ticks\":\"\"}},\"coloraxis\":{\"colorbar\":{\"outlinewidth\":0,\"ticks\":\"\"}},\"colorscale\":{\"sequential\":[[0.0,\"#0d0887\"],[0.1111111111111111,\"#46039f\"],[0.2222222222222222,\"#7201a8\"],[0.3333333333333333,\"#9c179e\"],[0.4444444444444444,\"#bd3786\"],[0.5555555555555556,\"#d8576b\"],[0.6666666666666666,\"#ed7953\"],[0.7777777777777778,\"#fb9f3a\"],[0.8888888888888888,\"#fdca26\"],[1.0,\"#f0f921\"]],\"sequentialminus\":[[0.0,\"#0d0887\"],[0.1111111111111111,\"#46039f\"],[0.2222222222222222,\"#7201a8\"],[0.3333333333333333,\"#9c179e\"],[0.4444444444444444,\"#bd3786\"],[0.5555555555555556,\"#d8576b\"],[0.6666666666666666,\"#ed7953\"],[0.7777777777777778,\"#fb9f3a\"],[0.8888888888888888,\"#fdca26\"],[1.0,\"#f0f921\"]],\"diverging\":[[0,\"#8e0152\"],[0.1,\"#c51b7d\"],[0.2,\"#de77ae\"],[0.3,\"#f1b6da\"],[0.4,\"#fde0ef\"],[0.5,\"#f7f7f7\"],[0.6,\"#e6f5d0\"],[0.7,\"#b8e186\"],[0.8,\"#7fbc41\"],[0.9,\"#4d9221\"],[1,\"#276419\"]]},\"xaxis\":{\"gridcolor\":\"white\",\"linecolor\":\"white\",\"ticks\":\"\",\"title\":{\"standoff\":15},\"zerolinecolor\":\"white\",\"automargin\":true,\"zerolinewidth\":2},\"yaxis\":{\"gridcolor\":\"white\",\"linecolor\":\"white\",\"ticks\":\"\",\"title\":{\"standoff\":15},\"zerolinecolor\":\"white\",\"automargin\":true,\"zerolinewidth\":2},\"scene\":{\"xaxis\":{\"backgroundcolor\":\"#E5ECF6\",\"gridcolor\":\"white\",\"linecolor\":\"white\",\"showbackground\":true,\"ticks\":\"\",\"zerolinecolor\":\"white\",\"gridwidth\":2},\"yaxis\":{\"backgroundcolor\":\"#E5ECF6\",\"gridcolor\":\"white\",\"linecolor\":\"white\",\"showbackground\":true,\"ticks\":\"\",\"zerolinecolor\":\"white\",\"gridwidth\":2},\"zaxis\":{\"backgroundcolor\":\"#E5ECF6\",\"gridcolor\":\"white\",\"linecolor\":\"white\",\"showbackground\":true,\"ticks\":\"\",\"zerolinecolor\":\"white\",\"gridwidth\":2}},\"shapedefaults\":{\"line\":{\"color\":\"#2a3f5f\"}},\"annotationdefaults\":{\"arrowcolor\":\"#2a3f5f\",\"arrowhead\":0,\"arrowwidth\":1},\"geo\":{\"bgcolor\":\"white\",\"landcolor\":\"#E5ECF6\",\"subunitcolor\":\"white\",\"showland\":true,\"showlakes\":true,\"lakecolor\":\"white\"},\"title\":{\"x\":0.05},\"mapbox\":{\"style\":\"light\"}}},\"margin\":{\"r\":20,\"b\":10,\"l\":10,\"t\":40},\"title\":{\"text\":\"2D Chroma Vector Store Visualization\"},\"scene\":{\"xaxis\":{\"title\":{\"text\":\"x\"}},\"yaxis\":{\"title\":{\"text\":\"y\"}}},\"width\":800,\"height\":600},                        {\"responsive\": true}                    ).then(function(){\n",
              "                            \n",
              "var gd = document.getElementById('74a5deda-9301-443c-ac68-02d517b93460');\n",
              "var x = new MutationObserver(function (mutations, observer) {{\n",
              "        var display = window.getComputedStyle(gd).display;\n",
              "        if (!display || display === 'none') {{\n",
              "            console.log([gd, 'removed!']);\n",
              "            Plotly.purge(gd);\n",
              "            observer.disconnect();\n",
              "        }}\n",
              "}});\n",
              "\n",
              "// Listen for the removal of the full notebook cells\n",
              "var notebookContainer = gd.closest('#notebook-container');\n",
              "if (notebookContainer) {{\n",
              "    x.observe(notebookContainer, {childList: true});\n",
              "}}\n",
              "\n",
              "// Listen for the clearing of the current output cell\n",
              "var outputEl = gd.closest('.output');\n",
              "if (outputEl) {{\n",
              "    x.observe(outputEl, {childList: true});\n",
              "}}\n",
              "\n",
              "                        })                };            </script>        </div>\n",
              "</body>\n",
              "</html>"
            ]
          },
          "metadata": {}
        }
      ],
      "source": [
        "# We humans find it easier to visalize things in 2D!\n",
        "# Reduce the dimensionality of the vectors to 2D using t-SNE\n",
        "# (t-distributed stochastic neighbor embedding)\n",
        "\n",
        "tsne = TSNE(n_components=2, random_state=42)\n",
        "reduced_vectors = tsne.fit_transform(vectors)\n",
        "\n",
        "# Create the 2D scatter plot\n",
        "fig = go.Figure(data=[go.Scatter(\n",
        "    x=reduced_vectors[:, 0],\n",
        "    y=reduced_vectors[:, 1],\n",
        "    mode='markers',\n",
        "    marker=dict(size=5, color=colors, opacity=0.8),\n",
        "    text=[f\"Type: {t}<br>Text: {d[:100]}...\" for t, d in zip(doc_types, documents)],\n",
        "    hoverinfo='text'\n",
        ")])\n",
        "\n",
        "fig.update_layout(\n",
        "    title='2D Chroma Vector Store Visualization',\n",
        "    scene=dict(xaxis_title='x',yaxis_title='y'),\n",
        "    width=800,\n",
        "    height=600,\n",
        "    margin=dict(r=20, b=10, l=10, t=40)\n",
        ")\n",
        "\n",
        "fig.show()"
      ]
    },
    {
      "cell_type": "code",
      "execution_count": 36,
      "id": "e1418e88-acd5-460a-bf2b-4e6efc88e3dd",
      "metadata": {
        "id": "e1418e88-acd5-460a-bf2b-4e6efc88e3dd",
        "colab": {
          "base_uri": "https://localhost:8080/",
          "height": 717
        },
        "outputId": "9b735550-47b0-49a8-d123-737111d2b6a9"
      },
      "outputs": [
        {
          "output_type": "display_data",
          "data": {
            "text/html": [
              "<html>\n",
              "<head><meta charset=\"utf-8\" /></head>\n",
              "<body>\n",
              "    <div>            <script src=\"https://cdnjs.cloudflare.com/ajax/libs/mathjax/2.7.5/MathJax.js?config=TeX-AMS-MML_SVG\"></script><script type=\"text/javascript\">if (window.MathJax && window.MathJax.Hub && window.MathJax.Hub.Config) {window.MathJax.Hub.Config({SVG: {font: \"STIX-Web\"}});}</script>                <script type=\"text/javascript\">window.PlotlyConfig = {MathJaxConfig: 'local'};</script>\n",
              "        <script charset=\"utf-8\" src=\"https://cdn.plot.ly/plotly-3.0.1.min.js\"></script>                <div id=\"3a238127-6026-4551-a3ca-4859dbe4eec1\" class=\"plotly-graph-div\" style=\"height:700px; width:900px;\"></div>            <script type=\"text/javascript\">                window.PLOTLYENV=window.PLOTLYENV || {};                                if (document.getElementById(\"3a238127-6026-4551-a3ca-4859dbe4eec1\")) {                    Plotly.newPlot(                        \"3a238127-6026-4551-a3ca-4859dbe4eec1\",                        [{\"hoverinfo\":\"text\",\"marker\":{\"color\":[\"blue\",\"blue\",\"blue\",\"blue\",\"blue\",\"blue\",\"blue\",\"blue\",\"blue\",\"blue\",\"blue\",\"blue\",\"blue\",\"blue\",\"blue\",\"blue\",\"blue\",\"blue\",\"blue\",\"blue\",\"blue\",\"red\",\"red\",\"red\",\"red\",\"red\",\"red\",\"red\",\"red\",\"red\",\"red\",\"red\",\"red\",\"red\",\"red\",\"red\",\"red\",\"red\",\"red\",\"red\",\"red\",\"red\",\"red\",\"red\",\"red\",\"red\",\"red\",\"red\",\"red\",\"red\",\"red\",\"red\",\"red\",\"red\",\"red\",\"red\",\"red\",\"red\",\"red\",\"red\",\"red\",\"red\",\"red\",\"red\",\"red\",\"red\",\"red\",\"red\",\"red\",\"red\",\"red\",\"red\",\"red\",\"purple\",\"purple\",\"purple\",\"purple\",\"purple\",\"purple\",\"purple\",\"purple\",\"purple\",\"purple\",\"purple\",\"purple\",\"orange\",\"orange\",\"orange\",\"green\",\"green\",\"green\",\"green\",\"green\",\"green\",\"green\",\"green\",\"green\",\"green\",\"green\",\"green\",\"green\",\"green\",\"green\",\"green\",\"green\",\"green\",\"green\",\"green\",\"green\",\"green\",\"green\",\"green\",\"green\",\"green\",\"green\",\"green\",\"green\",\"green\",\"green\",\"green\",\"green\",\"green\",\"green\",\"green\",\"green\",\"green\",\"green\",\"green\",\"green\",\"green\",\"green\",\"green\",\"green\",\"green\",\"green\"],\"opacity\":0.8,\"size\":5},\"mode\":\"markers\",\"text\":[\"Type: products\\u003cbr\\u003eText: # Product Summary\\n\\n# Carllm\\n\\n## Summary\\n\\nCarllm is an innovative auto insurance product developed by...\",\"Type: products\\u003cbr\\u003eText: - **Instant Quoting**: With Carllm, insurance companies can offer near-instant quotes to customers, ...\",\"Type: products\\u003cbr\\u003eText: - **Mobile Integration**: Carllm is designed to work seamlessly with mobile applications, providing ...\",\"Type: products\\u003cbr\\u003eText: - **Professional Tier**: $2,500\\u002fmonth\\n  - For medium-sized companies.\\n  - All Basic Tier features pl...\",\"Type: products\\u003cbr\\u003eText: ### Q2 2025: Customer Experience Improvements\\n- Launch of a new **mobile app** for end-users.\\n- Intr...\",\"Type: products\\u003cbr\\u003eText: # Product Summary\\n\\n# Homellm\\n\\n## Summary\\nHomellm is an innovative home insurance product developed b...\",\"Type: products\\u003cbr\\u003eText: ### 2. Dynamic Pricing Model\\nWith Homellm's innovative dynamic pricing model, insurance providers ca...\",\"Type: products\\u003cbr\\u003eText: ### 5. Multi-Channel Integration\\nHomellm seamlessly integrates into existing insurance platforms, pr...\",\"Type: products\\u003cbr\\u003eText: - **Basic Tier:** Starting at $5,000\\u002fmonth for small insurers with basic integration features.\\n- **S...\",\"Type: products\\u003cbr\\u003eText: All tiers include a comprehensive training program and ongoing updates to ensure optimal performance...\",\"Type: products\\u003cbr\\u003eText: With Homellm, Insurellm is committed to transforming the landscape of home insurance, ensuring both ...\",\"Type: products\\u003cbr\\u003eText: # Product Summary\\n\\n# Rellm: AI-Powered Enterprise Reinsurance Solution\\n\\n## Summary\\n\\nRellm is an inno...\",\"Type: products\\u003cbr\\u003eText: ### Seamless Integrations\\nRellm's architecture is designed for effortless integration with existing ...\",\"Type: products\\u003cbr\\u003eText: ### Regulatory Compliance Tools\\nRellm includes built-in compliance tracking features to help organiz...\",\"Type: products\\u003cbr\\u003eText: Join the growing number of organizations leveraging Rellm to enhance their reinsurance processes whi...\",\"Type: products\\u003cbr\\u003eText: Experience the future of reinsurance with Rellm, where innovation meets reliability. Let Insurellm h...\",\"Type: products\\u003cbr\\u003eText: # Product Summary\\n\\n# Markellm\\n\\n## Summary\\n\\nMarkellm is an innovative two-sided marketplace designed ...\",\"Type: products\\u003cbr\\u003eText: - **User-Friendly Interface**: Designed with user experience in mind, Markellm features an intuitive...\",\"Type: products\\u003cbr\\u003eText: - **Customer Support**: Our dedicated support team is always available to assist both consumers and ...\",\"Type: products\\u003cbr\\u003eText: ### For Insurance Companies:\\n- **Basic Listing Fee**: $199\\u002fmonth for a featured listing on the platf...\",\"Type: products\\u003cbr\\u003eText: ### Q3 2025\\n- Initiate a comprehensive marketing campaign targeting both consumers and insurers to i...\",\"Type: contracts\\u003cbr\\u003eText: # Contract with BrightWay Solutions for Markellm\\n\\n**Contract Date:** October 5, 2023  \\n**Contract ID...\",\"Type: contracts\\u003cbr\\u003eText: 3. **Service Level Agreement (SLA):**  \\n   Insurellm commits to a 99.9% uptime for the platform with...\",\"Type: contracts\\u003cbr\\u003eText: 2. **Real-Time Quote Availability:**  \\n   Consumers sourced via BrightWay Solutions will receive rea...\",\"Type: contracts\\u003cbr\\u003eText: 3. **Training and Onboarding:**  \\n   Insurellm agrees to provide one free training session on how to...\",\"Type: contracts\\u003cbr\\u003eText: # Contract with Belvedere Insurance for Markellm\\n\\n## Terms\\nThis Contract (\\\"Agreement\\\") is made and e...\",\"Type: contracts\\u003cbr\\u003eText: ## Renewal\\n1. **Renewal Terms**: This Agreement may be renewed for additional one-year terms upon mu...\",\"Type: contracts\\u003cbr\\u003eText: ## Features\\n1. **AI-Powered Matching**: Belvedere Insurance will benefit from Markellm's AI-powered ...\",\"Type: contracts\\u003cbr\\u003eText: ## Support\\n1. **Technical Support**: Technical support will be available from 9 AM to 7 PM EST, Mond...\",\"Type: contracts\\u003cbr\\u003eText: **Belvedere Insurance**  \\nSignature: ______________________  \\nName: [Authorized Signatory]  \\nTitle: ...\",\"Type: contracts\\u003cbr\\u003eText: # Contract with Pinnacle Insurance Co. for Homellm\\n\\n## Terms\\nThis contract (\\\"Contract\\\") is entered i...\",\"Type: contracts\\u003cbr\\u003eText: ## Renewal\\n1. **Renewal Terms**: At the end of the initial term, this Contract shall automatically r...\",\"Type: contracts\\u003cbr\\u003eText: ## Features\\n1. **AI-Powered Risk Assessment**: Utilized for tailored underwriting decisions specific...\",\"Type: contracts\\u003cbr\\u003eText: ## Support\\n1. **Technical Support**: Insurellm shall provide 24\\u002f7 technical support via an email and...\",\"Type: contracts\\u003cbr\\u003eText: # Contract with Velocity Auto Solutions for Carllm\\n\\n**Contract Date:** October 1, 2023  \\n**Contract ...\",\"Type: contracts\\u003cbr\\u003eText: ## Renewal\\n\\n1. **Automatic Renewal**: This contract will automatically renew for successive 12-month...\",\"Type: contracts\\u003cbr\\u003eText: ## Support\\n\\n1. **Customer Support**: Velocity Auto Solutions will have access to Insurellm’s custome...\",\"Type: contracts\\u003cbr\\u003eText: # Contract with GreenValley Insurance for Homellm\\n\\n**Contract Date:** October 6, 2023  \\n**Contract N...\",\"Type: contracts\\u003cbr\\u003eText: 4. **Confidentiality:** Both parties agree to maintain the confidentiality of proprietary informatio...\",\"Type: contracts\\u003cbr\\u003eText: 1. **AI-Powered Risk Assessment:** Access to advanced AI algorithms for real-time risk evaluations.\\n...\",\"Type: contracts\\u003cbr\\u003eText: 3. **Regular Updates:** Insurellm will offer ongoing updates and enhancements to the Homellm platfor...\",\"Type: contracts\\u003cbr\\u003eText: # Contract with EverGuard Insurance for Rellm: AI-Powered Enterprise Reinsurance Solution\\n\\n**Contrac...\",\"Type: contracts\\u003cbr\\u003eText: 4. **Usage Rights**: EverGuard Insurance is granted a non-exclusive, non-transferable license to acc...\",\"Type: contracts\\u003cbr\\u003eText: 1. **Core Functionality**: Rellm provides EverGuard Insurance with advanced AI-driven analytics, sea...\",\"Type: contracts\\u003cbr\\u003eText: 1. **Customer Support**: Insurellm will provide EverGuard Insurance with 24\\u002f7 customer support, incl...\",\"Type: contracts\\u003cbr\\u003eText: ---\\n\\n**Signatures**  \\n**For Insurellm**: __________________________  \\n**Name**: John Smith  \\n**Title...\",\"Type: contracts\\u003cbr\\u003eText: # Contract with Apex Reinsurance for Rellm: AI-Powered Enterprise Reinsurance Solution\\n\\n## Terms\\n\\n1....\",\"Type: contracts\\u003cbr\\u003eText: ## Renewal\\n\\n1. **Automatic Renewal**: This Agreement will automatically renew for successive one-yea...\",\"Type: contracts\\u003cbr\\u003eText: 2. **Seamless Integrations**: The architecture of Rellm allows for easy integration with existing sy...\",\"Type: contracts\\u003cbr\\u003eText: 1. **Technical Support**: Provider shall offer dedicated technical support to the Client via phone, ...\",\"Type: contracts\\u003cbr\\u003eText: **Insurellm, Inc.**  \\n_____________________________  \\nAuthorized Signature   \\nDate: ________________...\",\"Type: contracts\\u003cbr\\u003eText: # Contract with GreenField Holdings for Markellm\\n\\n**Effective Date:** November 15, 2023  \\n**Contract...\",\"Type: contracts\\u003cbr\\u003eText: ## Renewal\\n1. **Automatic Renewal**: This contract will automatically renew for sequential one-year ...\",\"Type: contracts\\u003cbr\\u003eText: ## Features\\n1. **AI-Powered Matching**: Access to advanced algorithms that connect GreenField Holdin...\",\"Type: contracts\\u003cbr\\u003eText: ## Support\\n1. **Customer Support Access**: The Client will have access to dedicated support through ...\",\"Type: contracts\\u003cbr\\u003eText: **Signatures:**  \\n_________________________                           _________________________  \\n**...\",\"Type: contracts\\u003cbr\\u003eText: # Contract with Greenstone Insurance for Homellm\\n\\n---\\n\\n## Terms\\n\\n1. **Parties**: This Contract (\\\"Agr...\",\"Type: contracts\\u003cbr\\u003eText: 4. **Payment Terms**: \\n   - The Customer shall pay an amount of $10,000 per month for the Standard T...\",\"Type: contracts\\u003cbr\\u003eText: ---\\n\\n## Features\\n\\n- **AI-Powered Risk Assessment**: Customer will have access to enhanced risk evalu...\",\"Type: contracts\\u003cbr\\u003eText: - **Customer Portal**: A dedicated portal will be provided, allowing the Customer's clients to manag...\",\"Type: contracts\\u003cbr\\u003eText: ______________________________  \\n[Name], [Title]  \\nDate: ______________________\\n\\n**For Greenstone In...\",\"Type: contracts\\u003cbr\\u003eText: # Contract with TechDrive Insurance for Carllm\\n\\n**Contract Date:** October 1, 2024  \\n**Contract Dura...\",\"Type: contracts\\u003cbr\\u003eText: ## Renewal\\n\\n1. **Automatic Renewal**: This contract shall automatically renew for additional one-yea...\",\"Type: contracts\\u003cbr\\u003eText: ## Support\\n\\n1. **Customer Support**: Insurellm will provide 24\\u002f7 customer support to TechDrive Insur...\",\"Type: contracts\\u003cbr\\u003eText: **TechDrive Insurance Representative:**  \\nName: Sarah Johnson  \\nTitle: Operations Director  \\nDate: _...\",\"Type: contracts\\u003cbr\\u003eText: # Contract with Roadway Insurance Inc. for Carllm\\n\\n---\\n\\n## Terms\\n\\n1. **Agreement Effective Date**: T...\",\"Type: contracts\\u003cbr\\u003eText: ---\\n\\n## Renewal\\n\\n1. **Automatic Renewal**: This agreement will automatically renew for an additional...\",\"Type: contracts\\u003cbr\\u003eText: ---\\n\\n## Features\\n\\n1. **Access to Core Features**: Roadway Insurance Inc. will have access to all Pro...\",\"Type: contracts\\u003cbr\\u003eText: ---\\n\\n## Support\\n\\n1. **Technical Support**: Roadway Insurance Inc. will receive priority technical su...\",\"Type: contracts\\u003cbr\\u003eText: # Contract with Stellar Insurance Co. for Rellm\\n\\n## Terms\\nThis contract is made between **Insurellm*...\",\"Type: contracts\\u003cbr\\u003eText: ### Termination\\nEither party may terminate this agreement with a **30-day written notice**. In the e...\",\"Type: contracts\\u003cbr\\u003eText: ## Features\\nStellar Insurance Co. will receive access to the following features of the Rellm product...\",\"Type: contracts\\u003cbr\\u003eText: ## Support\\nInsurellm provides Stellar Insurance Co. with the following support services:\\n\\n- **24\\u002f7 T...\",\"Type: footballers\\u003cbr\\u003eText: איקר קסיאס – השוער שהפך לאגדה\\nאיקר קסיאס פרננדס נולד ב־20 במאי 1981 בעיר מוסטולס שבמחוז מדריד, ספרד....\",\"Type: footballers\\u003cbr\\u003eText: אחד הרגעים הזכורים ביותר מהקריירה שלו התרחש בגמר ליגת האלופות ב־2002 מול באייר לברקוזן. למרות שהמשחק...\",\"Type: footballers\\u003cbr\\u003eText: היכולות של קסיאס היו שילוב נדיר של אינסטינקטים חדים, תגובה מהירה, שליטה ברחבה ונוכחות סמכותית. הוא ל...\",\"Type: footballers\\u003cbr\\u003eText: לאחר הפרישה פנה קסיאס לעולם הניהול והפוליטיקה של הספורט. הוא ניסה להתמודד לנשיאות התאחדות הכדורגל הס...\",\"Type: footballers\\u003cbr\\u003eText: כריסטיאנו רונאלדו – מסע של אגדה\\nכריסטיאנו רונאלדו דוש סנטוש אביירו נולד בפברואר 1985 בפונשל, שבאי מד...\",\"Type: footballers\\u003cbr\\u003eText: הפריצה הבינלאומית הגיעה בשנת 2003, כאשר ספורטינג ניצחה את מנצ'סטר יונייטד במשחק ידידות, ורונאלדו כיכ...\",\"Type: footballers\\u003cbr\\u003eText: ב-2018 עבר רונאלדו ליובנטוס האיטלקית, שם המשיך להפגין יכולת גבוהה ולזכות בתארים מקומיים. לאחר מכן חז...\",\"Type: footballers\\u003cbr\\u003eText: גם מחוץ למגרש רונאלדו הוא דמות מרכזית: הוא פרזנטור של מותגים בינלאומיים, בעל עסקי אופנה, והספורטאי ע...\",\"Type: footballers\\u003cbr\\u003eText: ליונל מסי – הקוסם מארגנטינה\\nליונל אנדרס מסי קוצ'יטיני נולד ב־24 ביוני 1987 בעיר רוסאריו שבארגנטינה. ...\",\"Type: footballers\\u003cbr\\u003eText: הופעת הבכורה שלו בקבוצה הבוגרת של ברצלונה הייתה בגיל 17 בלבד, בשנת 2004. כבר מהמשחקים הראשונים ניתן ...\",\"Type: footballers\\u003cbr\\u003eText: לאורך הקריירה שלו, מסי התמודד גם עם ביקורת כלפי יכולתו להוביל את נבחרת ארגנטינה להישגים. במשך שנים ר...\",\"Type: footballers\\u003cbr\\u003eText: מחוץ למגרש, מסי נחשב לדמות צנועה, משפחתית ומאופקת. הוא נשוי לאהבת נעוריו, אנטונלה, ואב לשלושה. לאורך...\",\"Type: company\\u003cbr\\u003eText: # About Insurellm\\n\\nInsurellm was founded by Avery Lancaster in 2015 as an insurance tech startup des...\",\"Type: company\\u003cbr\\u003eText: # Overview of Insurellm\\n\\nInsurellm is an innovative insurance tech firm with 200 employees across th...\",\"Type: company\\u003cbr\\u003eText: # Careers at Insurellm\\n\\nInsurellm is hiring! We are looking for talented software engineers, data sc...\",\"Type: employees\\u003cbr\\u003eText: # HR Record\\n\\n# Emily Carter\\n\\n## Summary\\n- **Date of Birth:** August 12, 1990  \\n- **Job Title:** Acco...\",\"Type: employees\\u003cbr\\u003eText: - **2017-2019:** Marketing Intern  \\n  - Assisted with market research and campaign development for s...\",\"Type: employees\\u003cbr\\u003eText: ## Compensation History\\n| Year | Base Salary | Bonus         | Total Compensation |\\n|------|--------...\",\"Type: employees\\u003cbr\\u003eText: Emily Carter exemplifies the kind of talent that drives Insurellm's success and is an invaluable ass...\",\"Type: employees\\u003cbr\\u003eText: # HR Record\\n\\n# Jordan K. Bishop\\n\\n## Summary\\n- **Date of Birth:** March 15, 1990\\n- **Job Title:** Fro...\",\"Type: employees\\u003cbr\\u003eText: ## Annual Performance History\\n- **2019:** Exceeds Expectations - Continuously delivered high-quality...\",\"Type: employees\\u003cbr\\u003eText: ## Compensation History\\n- **June 2018:** Starting Salary - $85,000\\n- **June 2019:** Salary Increase ...\",\"Type: employees\\u003cbr\\u003eText: ## Other HR Notes\\n- Jordan K. Bishop has been an integral part of club initiatives, including the In...\",\"Type: employees\\u003cbr\\u003eText: # Samantha Greene\\n\\n## Summary\\n- **Date of Birth:** October 14, 1990\\n- **Job Title:** HR Generalist\\n-...\",\"Type: employees\\u003cbr\\u003eText: ## Annual Performance History\\n- **2020:** Exceeds Expectations  \\n  Samantha Greene demonstrated exce...\",\"Type: employees\\u003cbr\\u003eText: ## Compensation History\\n- **2020:** Base Salary - $55,000  \\n  The entry-level salary matched industr...\",\"Type: employees\\u003cbr\\u003eText: - **2023:** Base Salary - $70,000  \\n  Recognized for substantial improvement in employee relations m...\",\"Type: employees\\u003cbr\\u003eText: # HR Record\\n\\n# Alex Thomson\\n\\n## Summary\\n- **Date of Birth:** March 15, 1995  \\n- **Job Title:** Sales...\",\"Type: employees\\u003cbr\\u003eText: ## Annual Performance History  \\n- **2022** - Rated as \\\"Exceeds Expectations.\\\" Alex Thomson achieved ...\",\"Type: employees\\u003cbr\\u003eText: ## Other HR Notes\\n- Alex Thomson is an active member of the Diversity and Inclusion committee at Ins...\",\"Type: employees\\u003cbr\\u003eText: # Avery Lancaster\\n\\n## Summary\\n- **Date of Birth**: March 15, 1985  \\n- **Job Title**: Co-Founder & Ch...\",\"Type: employees\\u003cbr\\u003eText: - **2010 - 2013**: Business Analyst at Edge Analytics  \\n  Prior to joining Innovate, Avery worked as...\",\"Type: employees\\u003cbr\\u003eText: - **2018**: **Exceeds Expectations**  \\n  Under Avery’s pivoted vision, Insurellm launched two new su...\",\"Type: employees\\u003cbr\\u003eText: - **2022**: **Satisfactory**  \\n  Avery focused on rebuilding team dynamics and addressing employee c...\",\"Type: employees\\u003cbr\\u003eText: ## Compensation History\\n- **2015**: $150,000 base salary + Significant equity stake  \\n- **2016**: $1...\",\"Type: employees\\u003cbr\\u003eText: ## Other HR Notes\\n- **Professional Development**: Avery has actively participated in leadership trai...\",\"Type: employees\\u003cbr\\u003eText: # HR Record\\n\\n# Emily Tran\\n\\n## Summary\\n- **Date of Birth:** March 18, 1991  \\n- **Job Title:** Digital...\",\"Type: employees\\u003cbr\\u003eText: - **January 2017 - May 2018**: Marketing Intern  \\n  - Supported the Marketing team by collaborating ...\",\"Type: employees\\u003cbr\\u003eText: - **2021**:  \\n  - Performance Rating: Meets Expectations  \\n  - Key Achievements: Contributed to the ...\",\"Type: employees\\u003cbr\\u003eText: - **Professional Development Goals**:  \\n  - Emily Tran aims to become a Marketing Manager within the...\",\"Type: employees\\u003cbr\\u003eText: # HR Record\\n\\n# Jordan Blake\\n\\n## Summary\\n- **Date of Birth:** March 15, 1993  \\n- **Job Title:** Sales...\",\"Type: employees\\u003cbr\\u003eText: ## Annual Performance History\\n- **2021:** First year at Insurellm; achieved 90% of monthly targets. ...\",\"Type: employees\\u003cbr\\u003eText: ## Other HR Notes\\n- Jordan has shown an interest in continuing education, actively participating in ...\",\"Type: employees\\u003cbr\\u003eText: # HR Record\\n\\n# Maxine Thompson\\n\\n## Summary\\n- **Date of Birth:** January 15, 1991  \\n- **Job Title:** ...\",\"Type: employees\\u003cbr\\u003eText: ## Insurellm Career Progression\\n- **January 2017 - October 2018**: **Junior Data Engineer**  \\n  * Ma...\",\"Type: employees\\u003cbr\\u003eText: ## Annual Performance History\\n- **2017**: *Meets Expectations*  \\n  Maxine showed potential in her ro...\",\"Type: employees\\u003cbr\\u003eText: - **2021**: *Exceeds Expectations*  \\n  Maxine spearheaded the transition to a new data warehousing s...\",\"Type: employees\\u003cbr\\u003eText: ## Compensation History\\n- **2017**: $70,000 (Junior Data Engineer)  \\n- **2018**: $75,000 (Junior Dat...\",\"Type: employees\\u003cbr\\u003eText: # HR Record\\n\\n# Samuel Trenton\\n\\n## Summary\\n- **Date of Birth:** April 12, 1989  \\n- **Job Title:** Sen...\",\"Type: employees\\u003cbr\\u003eText: ## Annual Performance History\\n- **2023:** Rating: 4.5\\u002f5  \\n  *Samuel exceeded expectations, successfu...\",\"Type: employees\\u003cbr\\u003eText: ## Compensation History\\n- **2023:** Base Salary: $115,000 + Bonus: $15,000  \\n  *Annual bonus based o...\",\"Type: employees\\u003cbr\\u003eText: - **Engagement in Company Culture:** Regularly participates in team-building events and contributes ...\",\"Type: employees\\u003cbr\\u003eText: # HR Record\\n\\n# Oliver Spencer\\n\\n## Summary\\n- **Date of Birth**: May 14, 1990  \\n- **Job Title**: Backe...\",\"Type: employees\\u003cbr\\u003eText: ## Annual Performance History\\n- **2018**: **3\\u002f5** - Adaptable team player but still learning to take...\",\"Type: employees\\u003cbr\\u003eText: ## Compensation History\\n- **March 2018**: Initial salary of $80,000.\\n- **July 2019**: Salary increas...\",\"Type: employees\\u003cbr\\u003eText: # HR Record\\n\\n# Alex Harper\\n\\n## Summary\\n- **Date of Birth**: March 15, 1993  \\n- **Job Title**: Sales ...\",\"Type: employees\\u003cbr\\u003eText: ## Annual Performance History  \\n- **2021**:  \\n  - **Performance Rating**: 4.5\\u002f5  \\n  - **Key Achievem...\",\"Type: employees\\u003cbr\\u003eText: - **2022**:  \\n  - **Base Salary**: $65,000 (Promotion to Senior SDR)  \\n  - **Bonus**: $13,000 (20% o...\",\"Type: employees\\u003cbr\\u003eText: # HR Record\\n\\n# Alex Chen\\n\\n## Summary\\n- **Date of Birth:** March 15, 1990  \\n- **Job Title:** Backend ...\",\"Type: employees\\u003cbr\\u003eText: ## Annual Performance History\\n- **2020:**  \\n  - Completed onboarding successfully.  \\n  - Met expecta...\",\"Type: employees\\u003cbr\\u003eText: ## Compensation History\\n- **2020:** Base Salary: $80,000  \\n- **2021:** Base Salary Increase to $90,0...\",\"Type: employees\\u003cbr\\u003eText: Alex Chen continues to be a vital asset at Insurellm, contributing significantly to innovative backe...\"],\"x\":{\"dtype\":\"f4\",\"bdata\":\"LjhKQbOLpUGiYbpBXjKcQU8pOsE7t0TBqFfPwYqhGMHfEA1BaIrAwG8PlMEOXZ9Bm2kRQb96CkI0YCfAvNwswHAoB8I49b7BHWP5wQ8FE8KFOvHBICrov7RCWz81WSPB\\u002fSF7QVl3NcEG\\u002f6xC7rNKwi8xCUIQh2NBXuisQnfSi0I1pDnCVAsewUXAqEITkoBCIweaQo\\u002fmSUInETVCYYYZwpSo\\u002fEEEujdC2VsQQuaYlkFctcFB0a+QQYxZhUIx1D9CXaqFQU+SWUK4schAXdCEwUWEqEI8l13CdRMewuh3sUHkqhpBgE9iQmpOzMHHeFFCLESGQbFap0JtxYBCbG6FQrJqSkJt7b5CZm2lQolVEsHQ5UpCRi5vQqGxdEIzp+5BtG0dQsaYjcI46bHCH3KpwoQyfMIIip\\u002fCT0M8wmKBcsLftmPCYcKfwuEcjMJe0AJBJZtzwsbImcFkXb7AcjuQv4NMjkENf4LCKOzcQS8\\u002fysFjpU0\\u002fgCmFwoe+wkGcrsTAWZ4OQoZk+sFdcy5CsTrNQa94ssEz9gLCuTsTwhbkGsJsa3zCbPGEwlLIo8JoPWpBzydEwgQx0UEd\\u002fXxB2T93QeIPMUGm9Oy+Ry2KwAwcksHmB4RBxnckwWE5PcKo5tpBBKljvm9O7cA0KpDBeQBIv3jN7sGin2dAe2Fvwlxzi0GXY+nAdfCUwTXyx8AZ23PBMNFPwvnEP0FHWpHB\"},\"y\":{\"dtype\":\"f4\",\"bdata\":\"VliSwPANPT1DxrLBNzAmwuFx8MGoR73ABSaZwWOj8cE9pyfCtorVwfzwW8FSONHBp8lFwpJuR8LRCjjCKGbFwQhGI8JzWWXC5YWNwu6chsL8ASPC2NSTwot6ZEGnPqLC+uOJwnWLksIWjRbBQEBswiOSTsLpBGLCHc1CwvNhg8FwYAbCmyLJQrs8bcBXG1FA6C9mwF2CZUERpl7A6akAwh3UAUFYa9PBIUyJwYus68EgUwXCUiySwSmPz8GCZU3BUvCIwteYRcL\\u002fYwvCgNZKwg9I6cFhbjvC27Z9wmjS1MGsxyC\\u002f0lMDwgqeKMIlvgfCfKkewqJ7l0HqCK1Bt3B8QYW7x0G3fyRBFGHawK\\u002fDesIYxsVA03FIwrDMA8LchUTClCFUwgZxyUFcHq9B6646QmeDQUJD1jFC+4YJQtPbWUKpzQpCY0OWQfV4AEKCR5\\u002fCq1IpQR9+r8AJ2L08nMI5QAoxgkLO2T9CtKM9Qm6SR8Ejm8JCwQBKQeYkRUL3cs1C3P2aQtEx5EE+lYhCHEaTQgVRhEJZ7h9CjCGFQt7DKsBMQA\\u002fBULFiwWM3uMDEdNRBY4BpwSi6NkLT0AVCEmnnQZIEAEKhhpNCyJGMQhbnrUIAY4NChClBQlZuXkGWF7\\u002fCTVpZQi20fUJ8belBFAMcQuB9Q0LLNK9CoMgHQp0nkUJMhlZCg59TQv7tLEKtRKtC6\\u002fvCQXv4XkJfjG7A\"},\"z\":{\"dtype\":\"f4\",\"bdata\":\"ybsjQjrMa0Kje2VCyuxiQvh9ZsHtllRCnaeAQoLdRUJPJ5hCpjimQnWpAEIzY8JBCqe7QeuqAEKsGa2\\u002f62uDQTbxhEHJ1LFBc0fzQH7eVMFJbrXAXcbJweJZpkKGChrAFzkBwu8sOMK8tUtChyeFQV2mLMJ8w3LCh4djweq6LkIF2JJC8nwlw64qH8FuxO9AWuQRwlosFUIK9OJB04tBQlYfg0FWXX7BpagQPn1lOD4tSaPBM7YTwslmi8F7aRPCl96pQedxCcJHaGHCrcAlwiKRGEKCWTFCo8AIwgE4hcLSHI\\u002fCj9+AQqS8gkIqFnfCBkmhwh7aXcGUT10\\u002fHF74wTpsGMJyEslAM32xQWpPXEIpdHbBuIaBP6Blc0EexfxA25cuwdAMvsENYhrCfJgCwkDxzMEeP4PCwF00whQcUsJIQYjCDcKCwgDDOsKC2szCeuxJwhzQkkDGtIJBysnSwKNZ6UEOdjBCdaNawT98W8JrSatBIrDsQYciQMIKTvM\\u002fTCUmQZAUukG0e5HB9JcFwUmPlkFHSNbAuaKwQEZbgMH4T+DAKNBQQcah60D3vjLCj57SwXgE2UHAHWVBpxFfwZ5ZCUK9rD9BKUCtwbh8eMC6Lm1CvluOwuMyUEFQkwJAlupSwp6aKkIW6sjBD94GwoC5RUJOeCtCtzKjQU4vEsIVMoFBaIa+wWDAmMAW7wpC48YaQsM5zsGUXQ\\u002fC\"},\"type\":\"scatter3d\"}],                        {\"template\":{\"data\":{\"histogram2dcontour\":[{\"type\":\"histogram2dcontour\",\"colorbar\":{\"outlinewidth\":0,\"ticks\":\"\"},\"colorscale\":[[0.0,\"#0d0887\"],[0.1111111111111111,\"#46039f\"],[0.2222222222222222,\"#7201a8\"],[0.3333333333333333,\"#9c179e\"],[0.4444444444444444,\"#bd3786\"],[0.5555555555555556,\"#d8576b\"],[0.6666666666666666,\"#ed7953\"],[0.7777777777777778,\"#fb9f3a\"],[0.8888888888888888,\"#fdca26\"],[1.0,\"#f0f921\"]]}],\"choropleth\":[{\"type\":\"choropleth\",\"colorbar\":{\"outlinewidth\":0,\"ticks\":\"\"}}],\"histogram2d\":[{\"type\":\"histogram2d\",\"colorbar\":{\"outlinewidth\":0,\"ticks\":\"\"},\"colorscale\":[[0.0,\"#0d0887\"],[0.1111111111111111,\"#46039f\"],[0.2222222222222222,\"#7201a8\"],[0.3333333333333333,\"#9c179e\"],[0.4444444444444444,\"#bd3786\"],[0.5555555555555556,\"#d8576b\"],[0.6666666666666666,\"#ed7953\"],[0.7777777777777778,\"#fb9f3a\"],[0.8888888888888888,\"#fdca26\"],[1.0,\"#f0f921\"]]}],\"heatmap\":[{\"type\":\"heatmap\",\"colorbar\":{\"outlinewidth\":0,\"ticks\":\"\"},\"colorscale\":[[0.0,\"#0d0887\"],[0.1111111111111111,\"#46039f\"],[0.2222222222222222,\"#7201a8\"],[0.3333333333333333,\"#9c179e\"],[0.4444444444444444,\"#bd3786\"],[0.5555555555555556,\"#d8576b\"],[0.6666666666666666,\"#ed7953\"],[0.7777777777777778,\"#fb9f3a\"],[0.8888888888888888,\"#fdca26\"],[1.0,\"#f0f921\"]]}],\"contourcarpet\":[{\"type\":\"contourcarpet\",\"colorbar\":{\"outlinewidth\":0,\"ticks\":\"\"}}],\"contour\":[{\"type\":\"contour\",\"colorbar\":{\"outlinewidth\":0,\"ticks\":\"\"},\"colorscale\":[[0.0,\"#0d0887\"],[0.1111111111111111,\"#46039f\"],[0.2222222222222222,\"#7201a8\"],[0.3333333333333333,\"#9c179e\"],[0.4444444444444444,\"#bd3786\"],[0.5555555555555556,\"#d8576b\"],[0.6666666666666666,\"#ed7953\"],[0.7777777777777778,\"#fb9f3a\"],[0.8888888888888888,\"#fdca26\"],[1.0,\"#f0f921\"]]}],\"surface\":[{\"type\":\"surface\",\"colorbar\":{\"outlinewidth\":0,\"ticks\":\"\"},\"colorscale\":[[0.0,\"#0d0887\"],[0.1111111111111111,\"#46039f\"],[0.2222222222222222,\"#7201a8\"],[0.3333333333333333,\"#9c179e\"],[0.4444444444444444,\"#bd3786\"],[0.5555555555555556,\"#d8576b\"],[0.6666666666666666,\"#ed7953\"],[0.7777777777777778,\"#fb9f3a\"],[0.8888888888888888,\"#fdca26\"],[1.0,\"#f0f921\"]]}],\"mesh3d\":[{\"type\":\"mesh3d\",\"colorbar\":{\"outlinewidth\":0,\"ticks\":\"\"}}],\"scatter\":[{\"fillpattern\":{\"fillmode\":\"overlay\",\"size\":10,\"solidity\":0.2},\"type\":\"scatter\"}],\"parcoords\":[{\"type\":\"parcoords\",\"line\":{\"colorbar\":{\"outlinewidth\":0,\"ticks\":\"\"}}}],\"scatterpolargl\":[{\"type\":\"scatterpolargl\",\"marker\":{\"colorbar\":{\"outlinewidth\":0,\"ticks\":\"\"}}}],\"bar\":[{\"error_x\":{\"color\":\"#2a3f5f\"},\"error_y\":{\"color\":\"#2a3f5f\"},\"marker\":{\"line\":{\"color\":\"#E5ECF6\",\"width\":0.5},\"pattern\":{\"fillmode\":\"overlay\",\"size\":10,\"solidity\":0.2}},\"type\":\"bar\"}],\"scattergeo\":[{\"type\":\"scattergeo\",\"marker\":{\"colorbar\":{\"outlinewidth\":0,\"ticks\":\"\"}}}],\"scatterpolar\":[{\"type\":\"scatterpolar\",\"marker\":{\"colorbar\":{\"outlinewidth\":0,\"ticks\":\"\"}}}],\"histogram\":[{\"marker\":{\"pattern\":{\"fillmode\":\"overlay\",\"size\":10,\"solidity\":0.2}},\"type\":\"histogram\"}],\"scattergl\":[{\"type\":\"scattergl\",\"marker\":{\"colorbar\":{\"outlinewidth\":0,\"ticks\":\"\"}}}],\"scatter3d\":[{\"type\":\"scatter3d\",\"line\":{\"colorbar\":{\"outlinewidth\":0,\"ticks\":\"\"}},\"marker\":{\"colorbar\":{\"outlinewidth\":0,\"ticks\":\"\"}}}],\"scattermap\":[{\"type\":\"scattermap\",\"marker\":{\"colorbar\":{\"outlinewidth\":0,\"ticks\":\"\"}}}],\"scattermapbox\":[{\"type\":\"scattermapbox\",\"marker\":{\"colorbar\":{\"outlinewidth\":0,\"ticks\":\"\"}}}],\"scatterternary\":[{\"type\":\"scatterternary\",\"marker\":{\"colorbar\":{\"outlinewidth\":0,\"ticks\":\"\"}}}],\"scattercarpet\":[{\"type\":\"scattercarpet\",\"marker\":{\"colorbar\":{\"outlinewidth\":0,\"ticks\":\"\"}}}],\"carpet\":[{\"aaxis\":{\"endlinecolor\":\"#2a3f5f\",\"gridcolor\":\"white\",\"linecolor\":\"white\",\"minorgridcolor\":\"white\",\"startlinecolor\":\"#2a3f5f\"},\"baxis\":{\"endlinecolor\":\"#2a3f5f\",\"gridcolor\":\"white\",\"linecolor\":\"white\",\"minorgridcolor\":\"white\",\"startlinecolor\":\"#2a3f5f\"},\"type\":\"carpet\"}],\"table\":[{\"cells\":{\"fill\":{\"color\":\"#EBF0F8\"},\"line\":{\"color\":\"white\"}},\"header\":{\"fill\":{\"color\":\"#C8D4E3\"},\"line\":{\"color\":\"white\"}},\"type\":\"table\"}],\"barpolar\":[{\"marker\":{\"line\":{\"color\":\"#E5ECF6\",\"width\":0.5},\"pattern\":{\"fillmode\":\"overlay\",\"size\":10,\"solidity\":0.2}},\"type\":\"barpolar\"}],\"pie\":[{\"automargin\":true,\"type\":\"pie\"}]},\"layout\":{\"autotypenumbers\":\"strict\",\"colorway\":[\"#636efa\",\"#EF553B\",\"#00cc96\",\"#ab63fa\",\"#FFA15A\",\"#19d3f3\",\"#FF6692\",\"#B6E880\",\"#FF97FF\",\"#FECB52\"],\"font\":{\"color\":\"#2a3f5f\"},\"hovermode\":\"closest\",\"hoverlabel\":{\"align\":\"left\"},\"paper_bgcolor\":\"white\",\"plot_bgcolor\":\"#E5ECF6\",\"polar\":{\"bgcolor\":\"#E5ECF6\",\"angularaxis\":{\"gridcolor\":\"white\",\"linecolor\":\"white\",\"ticks\":\"\"},\"radialaxis\":{\"gridcolor\":\"white\",\"linecolor\":\"white\",\"ticks\":\"\"}},\"ternary\":{\"bgcolor\":\"#E5ECF6\",\"aaxis\":{\"gridcolor\":\"white\",\"linecolor\":\"white\",\"ticks\":\"\"},\"baxis\":{\"gridcolor\":\"white\",\"linecolor\":\"white\",\"ticks\":\"\"},\"caxis\":{\"gridcolor\":\"white\",\"linecolor\":\"white\",\"ticks\":\"\"}},\"coloraxis\":{\"colorbar\":{\"outlinewidth\":0,\"ticks\":\"\"}},\"colorscale\":{\"sequential\":[[0.0,\"#0d0887\"],[0.1111111111111111,\"#46039f\"],[0.2222222222222222,\"#7201a8\"],[0.3333333333333333,\"#9c179e\"],[0.4444444444444444,\"#bd3786\"],[0.5555555555555556,\"#d8576b\"],[0.6666666666666666,\"#ed7953\"],[0.7777777777777778,\"#fb9f3a\"],[0.8888888888888888,\"#fdca26\"],[1.0,\"#f0f921\"]],\"sequentialminus\":[[0.0,\"#0d0887\"],[0.1111111111111111,\"#46039f\"],[0.2222222222222222,\"#7201a8\"],[0.3333333333333333,\"#9c179e\"],[0.4444444444444444,\"#bd3786\"],[0.5555555555555556,\"#d8576b\"],[0.6666666666666666,\"#ed7953\"],[0.7777777777777778,\"#fb9f3a\"],[0.8888888888888888,\"#fdca26\"],[1.0,\"#f0f921\"]],\"diverging\":[[0,\"#8e0152\"],[0.1,\"#c51b7d\"],[0.2,\"#de77ae\"],[0.3,\"#f1b6da\"],[0.4,\"#fde0ef\"],[0.5,\"#f7f7f7\"],[0.6,\"#e6f5d0\"],[0.7,\"#b8e186\"],[0.8,\"#7fbc41\"],[0.9,\"#4d9221\"],[1,\"#276419\"]]},\"xaxis\":{\"gridcolor\":\"white\",\"linecolor\":\"white\",\"ticks\":\"\",\"title\":{\"standoff\":15},\"zerolinecolor\":\"white\",\"automargin\":true,\"zerolinewidth\":2},\"yaxis\":{\"gridcolor\":\"white\",\"linecolor\":\"white\",\"ticks\":\"\",\"title\":{\"standoff\":15},\"zerolinecolor\":\"white\",\"automargin\":true,\"zerolinewidth\":2},\"scene\":{\"xaxis\":{\"backgroundcolor\":\"#E5ECF6\",\"gridcolor\":\"white\",\"linecolor\":\"white\",\"showbackground\":true,\"ticks\":\"\",\"zerolinecolor\":\"white\",\"gridwidth\":2},\"yaxis\":{\"backgroundcolor\":\"#E5ECF6\",\"gridcolor\":\"white\",\"linecolor\":\"white\",\"showbackground\":true,\"ticks\":\"\",\"zerolinecolor\":\"white\",\"gridwidth\":2},\"zaxis\":{\"backgroundcolor\":\"#E5ECF6\",\"gridcolor\":\"white\",\"linecolor\":\"white\",\"showbackground\":true,\"ticks\":\"\",\"zerolinecolor\":\"white\",\"gridwidth\":2}},\"shapedefaults\":{\"line\":{\"color\":\"#2a3f5f\"}},\"annotationdefaults\":{\"arrowcolor\":\"#2a3f5f\",\"arrowhead\":0,\"arrowwidth\":1},\"geo\":{\"bgcolor\":\"white\",\"landcolor\":\"#E5ECF6\",\"subunitcolor\":\"white\",\"showland\":true,\"showlakes\":true,\"lakecolor\":\"white\"},\"title\":{\"x\":0.05},\"mapbox\":{\"style\":\"light\"}}},\"margin\":{\"r\":20,\"b\":10,\"l\":10,\"t\":40},\"title\":{\"text\":\"3D Chroma Vector Store Visualization\"},\"scene\":{\"xaxis\":{\"title\":{\"text\":\"x\"}},\"yaxis\":{\"title\":{\"text\":\"y\"}},\"zaxis\":{\"title\":{\"text\":\"z\"}}},\"width\":900,\"height\":700},                        {\"responsive\": true}                    ).then(function(){\n",
              "                            \n",
              "var gd = document.getElementById('3a238127-6026-4551-a3ca-4859dbe4eec1');\n",
              "var x = new MutationObserver(function (mutations, observer) {{\n",
              "        var display = window.getComputedStyle(gd).display;\n",
              "        if (!display || display === 'none') {{\n",
              "            console.log([gd, 'removed!']);\n",
              "            Plotly.purge(gd);\n",
              "            observer.disconnect();\n",
              "        }}\n",
              "}});\n",
              "\n",
              "// Listen for the removal of the full notebook cells\n",
              "var notebookContainer = gd.closest('#notebook-container');\n",
              "if (notebookContainer) {{\n",
              "    x.observe(notebookContainer, {childList: true});\n",
              "}}\n",
              "\n",
              "// Listen for the clearing of the current output cell\n",
              "var outputEl = gd.closest('.output');\n",
              "if (outputEl) {{\n",
              "    x.observe(outputEl, {childList: true});\n",
              "}}\n",
              "\n",
              "                        })                };            </script>        </div>\n",
              "</body>\n",
              "</html>"
            ]
          },
          "metadata": {}
        }
      ],
      "source": [
        "# Let's try 3D!\n",
        "\n",
        "tsne = TSNE(n_components=3, random_state=42)\n",
        "reduced_vectors = tsne.fit_transform(vectors)\n",
        "\n",
        "# Create the 3D scatter plot\n",
        "fig = go.Figure(data=[go.Scatter3d(\n",
        "    x=reduced_vectors[:, 0],\n",
        "    y=reduced_vectors[:, 1],\n",
        "    z=reduced_vectors[:, 2],\n",
        "    mode='markers',\n",
        "    marker=dict(size=5, color=colors, opacity=0.8),\n",
        "    text=[f\"Type: {t}<br>Text: {d[:100]}...\" for t, d in zip(doc_types, documents)],\n",
        "    hoverinfo='text'\n",
        ")])\n",
        "\n",
        "fig.update_layout(\n",
        "    title='3D Chroma Vector Store Visualization',\n",
        "    scene=dict(xaxis_title='x', yaxis_title='y', zaxis_title='z'),\n",
        "    width=900,\n",
        "    height=700,\n",
        "    margin=dict(r=20, b=10, l=10, t=40)\n",
        ")\n",
        "\n",
        "fig.show()"
      ]
    },
    {
      "cell_type": "markdown",
      "id": "9468860b-86a2-41df-af01-b2400cc985be",
      "metadata": {
        "id": "9468860b-86a2-41df-af01-b2400cc985be"
      },
      "source": [
        "## Time to use LangChain to bring it all together"
      ]
    },
    {
      "cell_type": "code",
      "execution_count": 39,
      "id": "129c7d1e-0094-4479-9459-f9360b95f244",
      "metadata": {
        "id": "129c7d1e-0094-4479-9459-f9360b95f244",
        "colab": {
          "base_uri": "https://localhost:8080/"
        },
        "outputId": "8f94c026-89ca-4842-f87c-c8766bafffcd"
      },
      "outputs": [
        {
          "output_type": "stream",
          "name": "stderr",
          "text": [
            "<ipython-input-39-3ddca5e4ef4e>:8: LangChainDeprecationWarning:\n",
            "\n",
            "Please see the migration guide at: https://python.langchain.com/docs/versions/migrating_memory/\n",
            "\n"
          ]
        }
      ],
      "source": [
        "# create a new Chat with OpenAI\n",
        "llm = ChatOpenAI(temperature=0.7, model_name=MODEL, openai_api_key=openai_api_key)\n",
        "\n",
        "# Alternative - if you'd like to use Ollama locally, uncomment this line instead\n",
        "# llm = ChatOpenAI(temperature=0.7, model_name='llama3.2', base_url='http://localhost:11434/v1', api_key='ollama')\n",
        "\n",
        "# set up the conversation memory for the chat\n",
        "memory = ConversationBufferMemory(memory_key='chat_history', return_messages=True)\n",
        "\n",
        "# the retriever is an abstraction over the VectorStore that will be used during RAG\n",
        "retriever = vectorstore.as_retriever()\n",
        "\n",
        "# putting it together: set up the conversation chain with the GPT 3.5 LLM, the vector store and memory\n",
        "conversation_chain = ConversationalRetrievalChain.from_llm(llm=llm, retriever=retriever, memory=memory)"
      ]
    },
    {
      "cell_type": "code",
      "execution_count": 40,
      "id": "968e7bf2-e862-4679-a11f-6c1efb6ec8ca",
      "metadata": {
        "id": "968e7bf2-e862-4679-a11f-6c1efb6ec8ca",
        "colab": {
          "base_uri": "https://localhost:8080/"
        },
        "outputId": "e5202c83-ac9f-4d84-aa12-07feac0ff938"
      },
      "outputs": [
        {
          "output_type": "stream",
          "name": "stdout",
          "text": [
            "Insurellm is an innovative insurance tech startup founded in 2015 by Avery Lancaster, designed to disrupt the insurance industry with its technology-driven products. It offers four software solutions, including marketplaces and portals for auto, home, and reinsurance sectors, and has over 300 clients worldwide.\n"
          ]
        }
      ],
      "source": [
        "# Let's try a simple question\n",
        "\n",
        "query = \"Please explain what Insurellm is in a couple of sentences\"\n",
        "result = conversation_chain.invoke({\"question\": query})\n",
        "print(result[\"answer\"])"
      ]
    },
    {
      "cell_type": "code",
      "execution_count": 41,
      "id": "5b5a9013-d5d4-4e25-9e7c-cdbb4f33e319",
      "metadata": {
        "id": "5b5a9013-d5d4-4e25-9e7c-cdbb4f33e319"
      },
      "outputs": [],
      "source": [
        "# set up a new conversation memory for the chat\n",
        "memory = ConversationBufferMemory(memory_key='chat_history', return_messages=True)\n",
        "\n",
        "# putting it together: set up the conversation chain with the GPT 4o-mini LLM, the vector store and memory\n",
        "conversation_chain = ConversationalRetrievalChain.from_llm(llm=llm, retriever=retriever, memory=memory)"
      ]
    },
    {
      "cell_type": "markdown",
      "id": "bbbcb659-13ce-47ab-8a5e-01b930494964",
      "metadata": {
        "id": "bbbcb659-13ce-47ab-8a5e-01b930494964"
      },
      "source": [
        "## Now we will bring this up in Gradio using the Chat interface -\n",
        "\n",
        "A quick and easy way to prototype a chat with an LLM"
      ]
    },
    {
      "cell_type": "code",
      "execution_count": 42,
      "id": "c3536590-85c7-4155-bd87-ae78a1467670",
      "metadata": {
        "id": "c3536590-85c7-4155-bd87-ae78a1467670"
      },
      "outputs": [],
      "source": [
        "# Wrapping that in a function\n",
        "\n",
        "def chat(question, history):\n",
        "    result = conversation_chain.invoke({\"question\": question})\n",
        "    return result[\"answer\"]"
      ]
    },
    {
      "cell_type": "code",
      "execution_count": 43,
      "id": "b252d8c1-61a8-406d-b57a-8f708a62b014",
      "metadata": {
        "id": "b252d8c1-61a8-406d-b57a-8f708a62b014",
        "outputId": "1cc508f7-ec54-47ad-bfb0-1ca984b066e6",
        "colab": {
          "base_uri": "https://localhost:8080/",
          "height": 648
        }
      },
      "outputs": [
        {
          "output_type": "stream",
          "name": "stdout",
          "text": [
            "It looks like you are running Gradio on a hosted a Jupyter notebook. For the Gradio app to work, sharing must be enabled. Automatically setting `share=True` (you can turn this off by setting `share=False` in `launch()` explicitly).\n",
            "\n",
            "Colab notebook detected. To show errors in colab notebook, set debug=True in launch()\n",
            "* Running on public URL: https://cac3fbceb4d8d6a6e1.gradio.live\n",
            "\n",
            "This share link expires in 1 week. For free permanent hosting and GPU upgrades, run `gradio deploy` from the terminal in the working directory to deploy to Hugging Face Spaces (https://huggingface.co/spaces)\n"
          ]
        },
        {
          "output_type": "display_data",
          "data": {
            "text/plain": [
              "<IPython.core.display.HTML object>"
            ],
            "text/html": [
              "<div><iframe src=\"https://cac3fbceb4d8d6a6e1.gradio.live\" width=\"100%\" height=\"500\" allow=\"autoplay; camera; microphone; clipboard-read; clipboard-write;\" frameborder=\"0\" allowfullscreen></iframe></div>"
            ]
          },
          "metadata": {}
        }
      ],
      "source": [
        "# And in Gradio:\n",
        "\n",
        "view = gr.ChatInterface(chat, type=\"messages\").launch(inbrowser=True)"
      ]
    },
    {
      "cell_type": "code",
      "execution_count": 50,
      "id": "b55e9abb-e1da-46c5-acba-911868aee329",
      "metadata": {
        "id": "b55e9abb-e1da-46c5-acba-911868aee329",
        "outputId": "04751e4f-425d-40cd-dd82-f6b48e7afedf",
        "colab": {
          "base_uri": "https://localhost:8080/"
        }
      },
      "outputs": [
        {
          "output_type": "stream",
          "name": "stdout",
          "text": [
            "\n",
            "\n",
            "\u001b[1m> Entering new ConversationalRetrievalChain chain...\u001b[0m\n",
            "\n",
            "\n",
            "\u001b[1m> Entering new StuffDocumentsChain chain...\u001b[0m\n",
            "\n",
            "\n",
            "\u001b[1m> Entering new LLMChain chain...\u001b[0m\n",
            "Prompt after formatting:\n",
            "\u001b[32;1m\u001b[1;3mSystem: Use the following pieces of context to answer the user's question. \n",
            "If you don't know the answer, just say that you don't know, don't try to make up an answer.\n",
            "----------------\n",
            "## Other HR Notes\n",
            "- **Professional Development**: Avery has actively participated in leadership training programs and industry conferences, representing Insurellm and fostering partnerships.  \n",
            "- **Diversity & Inclusion Initiatives**: Avery has championed a commitment to diversity in hiring practices, seeing visible improvements in team representation since 2021.  \n",
            "- **Work-Life Balance**: Feedback revealed concerns regarding work-life balance, which Avery has approached by implementing flexible working conditions and ensuring regular check-ins with the team.\n",
            "- **Community Engagement**: Avery led community outreach efforts, focusing on financial literacy programs, particularly aimed at underserved populations, improving Insurellm's corporate social responsibility image.  \n",
            "\n",
            "Avery Lancaster has demonstrated resilience and adaptability throughout her career at Insurellm, positioning the company as a key player in the insurance technology landscape.\n",
            "\n",
            "- **2010 - 2013**: Business Analyst at Edge Analytics  \n",
            "  Prior to joining Innovate, Avery worked as a Business Analyst, focusing on market trends and consumer preferences in the insurance space. This position laid the groundwork for Avery’s future entrepreneurial endeavors.\n",
            "\n",
            "## Annual Performance History\n",
            "- **2015**: **Exceeds Expectations**  \n",
            "  Avery’s leadership during Insurellm's foundational year led to successful product launches and securing initial funding.  \n",
            "\n",
            "- **2016**: **Meets Expectations**  \n",
            "  Growth continued, though challenges arose in operational efficiency that required Avery's attention.  \n",
            "\n",
            "- **2017**: **Developing**  \n",
            "  Market competition intensified, and monthly sales metrics were below targets. Avery implemented new strategies which required a steep learning curve.  \n",
            "\n",
            "- **2018**: **Exceeds Expectations**  \n",
            "  Under Avery’s pivoted vision, Insurellm launched two new successful products that significantly increased market share.\n",
            "\n",
            "- **2022**: **Satisfactory**  \n",
            "  Avery focused on rebuilding team dynamics and addressing employee concerns, leading to overall improvement despite a saturated market.  \n",
            "\n",
            "- **2023**: **Exceeds Expectations**  \n",
            "  Market leadership was regained with innovative approaches to personalized insurance solutions. Avery is now recognized in industry publications as a leading voice in Insurance Tech innovation.\n",
            "\n",
            "# Avery Lancaster\n",
            "\n",
            "## Summary\n",
            "- **Date of Birth**: March 15, 1985  \n",
            "- **Job Title**: Co-Founder & Chief Executive Officer (CEO)  \n",
            "- **Location**: San Francisco, California  \n",
            "\n",
            "## Insurellm Career Progression\n",
            "- **2015 - Present**: Co-Founder & CEO  \n",
            "  Avery Lancaster co-founded Insurellm in 2015 and has since guided the company to its current position as a leading Insurance Tech provider. Avery is known for her innovative leadership strategies and risk management expertise that have catapulted the company into the mainstream insurance market.  \n",
            "\n",
            "- **2013 - 2015**: Senior Product Manager at Innovate Insurance Solutions  \n",
            "  Before launching Insurellm, Avery was a leading Senior Product Manager at Innovate Insurance Solutions, where she developed groundbreaking insurance products aimed at the tech sector.\n",
            "Human: Who is averi? explain shortly.\u001b[0m\n",
            "\n",
            "\u001b[1m> Finished chain.\u001b[0m\n",
            "\n",
            "\u001b[1m> Finished chain.\u001b[0m\n",
            "\n",
            "\u001b[1m> Finished chain.\u001b[0m\n",
            "\n",
            "Answer: Avery Lancaster is the Co-Founder and Chief Executive Officer (CEO) of Insurellm, an insurance technology company that she helped establish in 2015. She has a background in business analysis and product management, and is known for her leadership in developing innovative insurance solutions, promoting diversity and inclusion, and improving work-life balance within her team. Avery has been recognized for her contributions to the industry and has successfully navigated various challenges in the business landscape.\n"
          ]
        }
      ],
      "source": [
        "# Let's investigate what gets sent behind the scenes\n",
        "\n",
        "from langchain_core.callbacks import StdOutCallbackHandler\n",
        "\n",
        "llm = ChatOpenAI(temperature=0.7, model_name=MODEL, openai_api_key=openai_api_key)\n",
        "\n",
        "memory = ConversationBufferMemory(memory_key='chat_history', return_messages=True)\n",
        "\n",
        "retriever = vectorstore.as_retriever()\n",
        "\n",
        "conversation_chain = ConversationalRetrievalChain.from_llm(llm=llm, retriever=retriever, memory=memory, callbacks=[StdOutCallbackHandler()])\n",
        "\n",
        "query = \"Who is averi? explain shortly.\" # Using non-capital letter + misspelling his name and the model still able to figure out.\n",
        "result = conversation_chain.invoke({\"question\": query})\n",
        "answer = result[\"answer\"]\n",
        "print(\"\\nAnswer:\", answer)"
      ]
    },
    {
      "cell_type": "code",
      "execution_count": 46,
      "id": "2136153b-d2f6-4c58-a0e3-78c3a932cf55",
      "metadata": {
        "id": "2136153b-d2f6-4c58-a0e3-78c3a932cf55"
      },
      "outputs": [],
      "source": [
        "# create a new Chat with OpenAI\n",
        "llm = ChatOpenAI(temperature=0.7, model_name=MODEL, openai_api_key=openai_api_key)\n",
        "\n",
        "# set up the conversation memory for the chat\n",
        "memory = ConversationBufferMemory(memory_key='chat_history', return_messages=True)\n",
        "\n",
        "# the retriever is an abstraction over the VectorStore that will be used during RAG; k is how many chunks to use\n",
        "retriever = vectorstore.as_retriever(search_kwargs={\"k\": 45})\n",
        "\n",
        "# putting it together: set up the conversation chain with the GPT 3.5 LLM, the vector store and memory\n",
        "conversation_chain = ConversationalRetrievalChain.from_llm(llm=llm, retriever=retriever, memory=memory)"
      ]
    },
    {
      "cell_type": "code",
      "execution_count": 47,
      "id": "5c2bfa3c-810b-441b-90d1-31533f14b1e3",
      "metadata": {
        "id": "5c2bfa3c-810b-441b-90d1-31533f14b1e3"
      },
      "outputs": [],
      "source": [
        "def chat(question, history):\n",
        "    result = conversation_chain.invoke({\"question\": question})\n",
        "    return result[\"answer\"]"
      ]
    },
    {
      "cell_type": "code",
      "execution_count": 48,
      "id": "c736f33b-941e-4853-8eaf-2003bd988b18",
      "metadata": {
        "id": "c736f33b-941e-4853-8eaf-2003bd988b18",
        "outputId": "f69faa2e-5737-4579-b862-a38e004dc60a",
        "colab": {
          "base_uri": "https://localhost:8080/",
          "height": 648
        }
      },
      "outputs": [
        {
          "output_type": "stream",
          "name": "stdout",
          "text": [
            "It looks like you are running Gradio on a hosted a Jupyter notebook. For the Gradio app to work, sharing must be enabled. Automatically setting `share=True` (you can turn this off by setting `share=False` in `launch()` explicitly).\n",
            "\n",
            "Colab notebook detected. To show errors in colab notebook, set debug=True in launch()\n",
            "* Running on public URL: https://7df78ca52fb7a4f2c8.gradio.live\n",
            "\n",
            "This share link expires in 1 week. For free permanent hosting and GPU upgrades, run `gradio deploy` from the terminal in the working directory to deploy to Hugging Face Spaces (https://huggingface.co/spaces)\n"
          ]
        },
        {
          "output_type": "display_data",
          "data": {
            "text/plain": [
              "<IPython.core.display.HTML object>"
            ],
            "text/html": [
              "<div><iframe src=\"https://7df78ca52fb7a4f2c8.gradio.live\" width=\"100%\" height=\"500\" allow=\"autoplay; camera; microphone; clipboard-read; clipboard-write;\" frameborder=\"0\" allowfullscreen></iframe></div>"
            ]
          },
          "metadata": {}
        }
      ],
      "source": [
        "view = gr.ChatInterface(chat, type=\"messages\").launch(inbrowser=True)"
      ]
    },
    {
      "cell_type": "code",
      "execution_count": null,
      "id": "30b4745a-0a6c-4544-b78b-c827cfec1fb9",
      "metadata": {
        "id": "30b4745a-0a6c-4544-b78b-c827cfec1fb9"
      },
      "outputs": [],
      "source": []
    }
  ],
  "metadata": {
    "kernelspec": {
      "display_name": "Python 3",
      "name": "python3"
    },
    "language_info": {
      "codemirror_mode": {
        "name": "ipython",
        "version": 3
      },
      "file_extension": ".py",
      "mimetype": "text/x-python",
      "name": "python",
      "nbconvert_exporter": "python",
      "pygments_lexer": "ipython3",
      "version": "3.11.11"
    },
    "colab": {
      "provenance": [],
      "gpuType": "T4",
      "include_colab_link": true
    },
    "accelerator": "GPU"
  },
  "nbformat": 4,
  "nbformat_minor": 5
}
